{
 "cells": [
  {
   "cell_type": "markdown",
   "metadata": {},
   "source": [
    "# 2020 網研社 - Python Week 4\n",
    "\n",
    "[上週教材 - 2020 網研社 - Python Week3](https://github.com/MingLunWu/2020_python_course/blob/master/Week3.ipynb)"
   ]
  },
  {
   "cell_type": "markdown",
   "metadata": {},
   "source": [
    "## 資料型態 - 字典 (Dictionary)\n",
    "\n",
    "截至目前為止，我們介紹過了幾種 Python 的資料型態，包含: \n",
    "1. int (整數) `*Week1*`\n",
    "2. float (浮點數) `*Week1*`\n",
    "3. str (字串) `*Week1*`\n",
    "4. bool (布林) `*Week1*`\n",
    "5. list (串列) `*Week3*`\n",
    "\n",
    "接下來我們要介紹第六種資料型態- **字典(Dictionary)** \n",
    "\n",
    "上一週在介紹串列時，提到串列的兩種特性 : \n",
    "+ 前後必須要透過 `[` 以及 `]` 包覆。\n",
    "+ 串列中的元素必須要透過 `,` 來區隔。\n",
    "\n",
    "字典也有?種特性:\n",
    "+ 前後必須要透過 `{` 以及 `}` 包覆。\n",
    "+ 字典中的每一個元素都是透過 `,` 來區隔。\n",
    "+ 字典中的每一個元素是由**`Key`**及**`Value`**組成。\n",
    "\n",
    "結構: \n",
    "```python\n",
    "sample=  {\"key\": \"value\", \"key_2\": \"value_2\"}\n",
    "```"
   ]
  },
  {
   "cell_type": "markdown",
   "metadata": {},
   "source": [
    "### 字典 - 初始化 "
   ]
  },
  {
   "cell_type": "code",
   "execution_count": 1,
   "metadata": {},
   "outputs": [
    {
     "name": "stdout",
     "output_type": "stream",
     "text": [
      "{}\n",
      "<class 'dict'>\n"
     ]
    }
   ],
   "source": [
    "test_dict = dict()\n",
    "print(test_dict)\n",
    "print(type(test_dict))"
   ]
  },
  {
   "cell_type": "markdown",
   "metadata": {},
   "source": [
    "另外一種初始化的方式:"
   ]
  },
  {
   "cell_type": "code",
   "execution_count": 2,
   "metadata": {},
   "outputs": [
    {
     "name": "stdout",
     "output_type": "stream",
     "text": [
      "{}\n",
      "<class 'dict'>\n"
     ]
    }
   ],
   "source": [
    "test_dict_2 = {}\n",
    "print(test_dict_2)\n",
    "print(type(test_dict_2))"
   ]
  },
  {
   "cell_type": "markdown",
   "metadata": {},
   "source": [
    "### 字典 - 設定值\n",
    "\n",
    "字典的每一項元素都是由 **Key** 及 **Value** 組成，在設定時必須要同時提供**Key**及**Value**:\n",
    "\n",
    "```python\n",
    "sample = dict()  # 初始化宣告一個字典\n",
    "sample[\"apple\"] = 60  # 設定一個元素，其Key為\"apple\"，Value則為60 \n",
    "```"
   ]
  },
  {
   "cell_type": "code",
   "execution_count": 3,
   "metadata": {},
   "outputs": [
    {
     "name": "stdout",
     "output_type": "stream",
     "text": [
      "{'banana': 5}\n"
     ]
    }
   ],
   "source": [
    "test_dict_3 = dict()\n",
    "test_dict_3[\"banana\"] = 5\n",
    "print(test_dict_3)"
   ]
  },
  {
   "cell_type": "markdown",
   "metadata": {},
   "source": [
    "Dictionary中的每一個**Key**可以是任何型態的變數，但通常會使用**字串**"
   ]
  },
  {
   "cell_type": "code",
   "execution_count": 4,
   "metadata": {},
   "outputs": [
    {
     "name": "stdout",
     "output_type": "stream",
     "text": [
      "{'guava': 2.33, 555: 556}\n"
     ]
    }
   ],
   "source": [
    "test_dict_4 = dict()\n",
    "test_dict_4[\"guava\"] = 2.33  # \"guava\"是個字串，可以當作Key\n",
    "test_dict_4[555] = 556 # 555是個整數，可以當作Key\n",
    "print(test_dict_4)"
   ]
  },
  {
   "cell_type": "markdown",
   "metadata": {},
   "source": [
    "特別注意！Dictionary中的每一個 **Key** 都是**獨一無二**的，不會有兩個元素有相同的**Key**。\n",
    "\n",
    "在設定元素時，如果字典中已經有元素「具有**相同**的Key」，則Value將會直接覆蓋。"
   ]
  },
  {
   "cell_type": "code",
   "execution_count": 5,
   "metadata": {},
   "outputs": [
    {
     "name": "stdout",
     "output_type": "stream",
     "text": [
      "{'pen': 10, 'pencil': 5}\n"
     ]
    }
   ],
   "source": [
    "test_dict_5 = {\"pen\":10, \"pencil\":5}\n",
    "print(test_dict_5)"
   ]
  },
  {
   "cell_type": "code",
   "execution_count": 6,
   "metadata": {},
   "outputs": [
    {
     "name": "stdout",
     "output_type": "stream",
     "text": [
      "{'pen': 100000, 'pencil': 5}\n"
     ]
    }
   ],
   "source": [
    "test_dict_5[\"pen\"] = 100000  # 字典中已經存在Key為\"pen\"的元素\n",
    "print(test_dict_5) # 還是只有兩個元素，但是\"pen\"的Value已經被覆蓋。"
   ]
  },
  {
   "cell_type": "markdown",
   "metadata": {},
   "source": [
    "### 字典的用處 - 貼標籤 \n",
    "\n",
    "字典(Dict)有別於串列(List)，可以根據使用者的需求將**Value**貼上特定的**Key**，在取用時只要透過這些**Key**就可以取得這些值。\n",
    "\n",
    "舉例來說： 如果你是一個水果攤老闆，今天你需要透過**一個變數**來紀錄本日水果進貨的價格: \n",
    "\n",
    "|水果|進貨價格|\n",
    "|:---:|:---:|\n",
    "|apple|50|\n",
    "|banana|60|\n",
    "|guava|70|\n",
    "|cherry|120|\n",
    "|grape|80|\n"
   ]
  },
  {
   "cell_type": "markdown",
   "metadata": {},
   "source": [
    "你可以透過 List 來儲存這些資訊 : "
   ]
  },
  {
   "cell_type": "code",
   "execution_count": 7,
   "metadata": {
    "collapsed": true
   },
   "outputs": [],
   "source": [
    "today_fruit_price = [50, 60, 70, 120, 80]"
   ]
  },
  {
   "cell_type": "markdown",
   "metadata": {},
   "source": [
    "請你取出 **cherry** 的價格: \n",
    "\n",
    "在查看了上表後，你知道**cherry**是第四項，所以你可以使用: "
   ]
  },
  {
   "cell_type": "code",
   "execution_count": 8,
   "metadata": {},
   "outputs": [
    {
     "name": "stdout",
     "output_type": "stream",
     "text": [
      "120\n"
     ]
    }
   ],
   "source": [
    "print(today_fruit_price[3])"
   ]
  },
  {
   "cell_type": "markdown",
   "metadata": {},
   "source": [
    "**如果你使用Dictionary**來儲存這些資訊: "
   ]
  },
  {
   "cell_type": "code",
   "execution_count": 9,
   "metadata": {},
   "outputs": [
    {
     "name": "stdout",
     "output_type": "stream",
     "text": [
      "{'apple': 50, 'banana': 60, 'guava': 70, 'cherry': 120, 'grape': 80}\n"
     ]
    }
   ],
   "source": [
    "today_fruit_price_dict = dict()\n",
    "today_fruit_price_dict[\"apple\"] = 50\n",
    "today_fruit_price_dict[\"banana\"] = 60\n",
    "today_fruit_price_dict[\"guava\"] = 70\n",
    "today_fruit_price_dict[\"cherry\"] = 120\n",
    "today_fruit_price_dict[\"grape\"] = 80\n",
    "print(today_fruit_price_dict)"
   ]
  },
  {
   "cell_type": "markdown",
   "metadata": {},
   "source": [
    "此時要取出 **Cherry**的值就單純多了: "
   ]
  },
  {
   "cell_type": "code",
   "execution_count": 10,
   "metadata": {},
   "outputs": [
    {
     "name": "stdout",
     "output_type": "stream",
     "text": [
      "120\n"
     ]
    }
   ],
   "source": [
    "print(today_fruit_price_dict[\"cherry\"])"
   ]
  },
  {
   "cell_type": "markdown",
   "metadata": {},
   "source": [
    "### 字典 - 取出值\n",
    "\n",
    "根據特定的**Key**來取出**Value**，透過下列語法： \n",
    "\n",
    "```python\n",
    "`<字典>`[`<KEY>`]\n",
    "today_fruit_price_dict[\"apple\"] # 從today_fruit_price_dict中取出Key為\"apple\"的值\n",
    "```"
   ]
  },
  {
   "cell_type": "code",
   "execution_count": 11,
   "metadata": {},
   "outputs": [
    {
     "data": {
      "text/plain": [
       "50"
      ]
     },
     "execution_count": 11,
     "metadata": {},
     "output_type": "execute_result"
    }
   ],
   "source": [
    "today_fruit_price_dict[\"apple\"] "
   ]
  },
  {
   "cell_type": "markdown",
   "metadata": {},
   "source": [
    "但如果要求取得**字典中並不存在的Key**就會噴錯:"
   ]
  },
  {
   "cell_type": "code",
   "execution_count": 12,
   "metadata": {},
   "outputs": [
    {
     "ename": "KeyError",
     "evalue": "'rabbit'",
     "output_type": "error",
     "traceback": [
      "\u001b[0;31m---------------------------------------------------------------------------\u001b[0m",
      "\u001b[0;31mKeyError\u001b[0m                                  Traceback (most recent call last)",
      "\u001b[0;32m<ipython-input-12-3f7419bfd8f0>\u001b[0m in \u001b[0;36m<module>\u001b[0;34m()\u001b[0m\n\u001b[0;32m----> 1\u001b[0;31m \u001b[0mprint\u001b[0m\u001b[0;34m(\u001b[0m\u001b[0mtoday_fruit_price_dict\u001b[0m\u001b[0;34m[\u001b[0m\u001b[0;34m\"rabbit\"\u001b[0m\u001b[0;34m]\u001b[0m\u001b[0;34m)\u001b[0m\u001b[0;34m\u001b[0m\u001b[0m\n\u001b[0m",
      "\u001b[0;31mKeyError\u001b[0m: 'rabbit'"
     ]
    }
   ],
   "source": [
    "print(today_fruit_price_dict[\"rabbit\"])"
   ]
  },
  {
   "cell_type": "markdown",
   "metadata": {},
   "source": [
    "為了避免噴錯，可以透過下列語法來取值：\n",
    "\n",
    "```python\n",
    "`<字典>`.get(`<KEY>`, `<替代值>`) \n",
    "\n",
    "# 從today_fruit_price_dict中取出Key為\"rabbit\"的值，如果不存在，則用-1當成value\n",
    "today_fruit_price_dict.get(\"rabbit\", -1)\n",
    "```"
   ]
  },
  {
   "cell_type": "code",
   "execution_count": 13,
   "metadata": {},
   "outputs": [
    {
     "name": "stdout",
     "output_type": "stream",
     "text": [
      "-1\n"
     ]
    }
   ],
   "source": [
    "print(today_fruit_price_dict.get(\"rabbit\", -1))"
   ]
  },
  {
   "cell_type": "markdown",
   "metadata": {},
   "source": [
    "### 各種型態的Value\n",
    "\n",
    "字典厲害的地方在於各種型態的**Value**都可以儲存，舉例來說： \n",
    "\n",
    "你是一位餐廳老闆，你的餐廳每天都只收五位客人，你希望記錄每天的每一筆收入:\n",
    "\n",
    "|天數|客人1|客人2|客人3|客人4|客人5|\n",
    "|:---:|:---:|\n",
    "|Monday|50|80|100|200|100|\n",
    "|Tuesday|60|20|30|80|60|\n",
    "|Wednesday|70|10|20|25|5|\n",
    "|Thursday|120|200|200|500|160|\n",
    "|Friday|80|100|20|300|25|\n",
    "\n",
    "\n",
    "因為客人之間並沒有次序關係，我們使用List來儲存每一天的收入！: \n",
    "```python\n",
    "monday_income = [50,80,100,200,100]\n",
    "tuesday_income = [60,20,30,80,60]\n",
    "wednesday_income = [70, 10, 20, 25, 5]\n",
    "thursday_income = [120,200,200,500,160]\n",
    "friday_income = [80, 100, 20, 300, 25]\n",
    "```\n",
    "\n",
    "但是因為不同天的收入是有次序關係的，這時候我們就需要使用字典來儲存: \n",
    "```python\n",
    "income = {\n",
    "    \"mon\": monday_income,\n",
    "    \"tue\": tuesday_income,\n",
    "    \"wed\": wednesday_income,\n",
    "    \"thu\": thursday_income,\n",
    "    \"fri\": friday_income\n",
    "}\n",
    "```"
   ]
  },
  {
   "cell_type": "markdown",
   "metadata": {},
   "source": [
    "### 綜合小練習 - (1)\n",
    "\n",
    "請複製上面的程式碼產生`income`字典，並且使用 **for 迴圈**來計算**禮拜三**的收入總和!"
   ]
  },
  {
   "cell_type": "markdown",
   "metadata": {
    "collapsed": true
   },
   "source": [
    "### 字典 - keys( )  取得當前所有的Key \n",
    "\n",
    "使用下列語法可以取得所有的Key: \n",
    "```python\n",
    "`<字典>`.keys()\n",
    "print(income.keys())\n",
    "```"
   ]
  },
  {
   "cell_type": "code",
   "execution_count": 14,
   "metadata": {
    "collapsed": true
   },
   "outputs": [],
   "source": [
    "# 根據上述例子創造一個字典\n",
    "\n",
    "monday_income = [50,80,100,200,100]\n",
    "tuesday_income = [60,20,30,80,60]\n",
    "wednesday_income = [70, 10, 20, 25, 5]\n",
    "thursday_income = [120,200,200,500,160]\n",
    "friday_income = [80, 100, 20, 300, 25]\n",
    "\n",
    "income = {\n",
    "    \"mon\": monday_income,\n",
    "    \"tue\": tuesday_income,\n",
    "    \"wed\": wednesday_income,\n",
    "    \"thu\": thursday_income,\n",
    "    \"fri\": friday_income\n",
    "}"
   ]
  },
  {
   "cell_type": "code",
   "execution_count": 15,
   "metadata": {},
   "outputs": [
    {
     "name": "stdout",
     "output_type": "stream",
     "text": [
      "dict_keys(['mon', 'tue', 'wed', 'thu', 'fri'])\n"
     ]
    }
   ],
   "source": [
    "print(income.keys())"
   ]
  },
  {
   "cell_type": "markdown",
   "metadata": {},
   "source": [
    "使用`.keys()`會得到一個**List**，可以使用迴圈將值取出來:"
   ]
  },
  {
   "cell_type": "code",
   "execution_count": 16,
   "metadata": {},
   "outputs": [
    {
     "name": "stdout",
     "output_type": "stream",
     "text": [
      "mon\n",
      "tue\n",
      "wed\n",
      "thu\n",
      "fri\n"
     ]
    }
   ],
   "source": [
    "for a_key in income.keys():\n",
    "    print(a_key)"
   ]
  },
  {
   "cell_type": "markdown",
   "metadata": {},
   "source": [
    "### 字典 - values( )  取得當前所有的Value\n",
    "\n",
    "使用下列語法可以取得所有的Value: \n",
    "```python\n",
    "`<字典>`.values()\n",
    "print(income.values())\n",
    "```"
   ]
  },
  {
   "cell_type": "code",
   "execution_count": 17,
   "metadata": {},
   "outputs": [
    {
     "name": "stdout",
     "output_type": "stream",
     "text": [
      "dict_values([[50, 80, 100, 200, 100], [60, 20, 30, 80, 60], [70, 10, 20, 25, 5], [120, 200, 200, 500, 160], [80, 100, 20, 300, 25]])\n"
     ]
    }
   ],
   "source": [
    "print(income.values())"
   ]
  },
  {
   "cell_type": "code",
   "execution_count": 18,
   "metadata": {},
   "outputs": [
    {
     "name": "stdout",
     "output_type": "stream",
     "text": [
      "[50, 80, 100, 200, 100]\n",
      "[60, 20, 30, 80, 60]\n",
      "[70, 10, 20, 25, 5]\n",
      "[120, 200, 200, 500, 160]\n",
      "[80, 100, 20, 300, 25]\n"
     ]
    }
   ],
   "source": [
    "for a_value in income.values():\n",
    "    print(a_value)"
   ]
  },
  {
   "cell_type": "markdown",
   "metadata": {},
   "source": [
    "### 字典 - items( )  取得當前所有的(Key, Value)\n",
    "\n",
    "使用下列語法可以取得所有的Key+Value \n",
    "```python\n",
    "`<字典>`.items()\n",
    "print(income.items())\n",
    "```"
   ]
  },
  {
   "cell_type": "code",
   "execution_count": 19,
   "metadata": {},
   "outputs": [
    {
     "name": "stdout",
     "output_type": "stream",
     "text": [
      "dict_items([('mon', [50, 80, 100, 200, 100]), ('tue', [60, 20, 30, 80, 60]), ('wed', [70, 10, 20, 25, 5]), ('thu', [120, 200, 200, 500, 160]), ('fri', [80, 100, 20, 300, 25])])\n"
     ]
    }
   ],
   "source": [
    "print(income.items())"
   ]
  },
  {
   "cell_type": "code",
   "execution_count": 20,
   "metadata": {},
   "outputs": [
    {
     "name": "stdout",
     "output_type": "stream",
     "text": [
      "('mon', [50, 80, 100, 200, 100])\n",
      "('tue', [60, 20, 30, 80, 60])\n",
      "('wed', [70, 10, 20, 25, 5])\n",
      "('thu', [120, 200, 200, 500, 160])\n",
      "('fri', [80, 100, 20, 300, 25])\n"
     ]
    }
   ],
   "source": [
    "for a_item in income.items():\n",
    "    print(a_item)"
   ]
  },
  {
   "cell_type": "code",
   "execution_count": 21,
   "metadata": {},
   "outputs": [
    {
     "name": "stdout",
     "output_type": "stream",
     "text": [
      "Key是mon\n",
      "Value是[50, 80, 100, 200, 100]\n",
      "Key是tue\n",
      "Value是[60, 20, 30, 80, 60]\n",
      "Key是wed\n",
      "Value是[70, 10, 20, 25, 5]\n",
      "Key是thu\n",
      "Value是[120, 200, 200, 500, 160]\n",
      "Key是fri\n",
      "Value是[80, 100, 20, 300, 25]\n"
     ]
    }
   ],
   "source": [
    "for a_key, a_value in income.items():\n",
    "    print(\"Key是\" + a_key)\n",
    "    print(\"Value是{}\".format(a_value))  # 因為 a_value 是 List，所以要用.format()來轉換"
   ]
  },
  {
   "cell_type": "markdown",
   "metadata": {},
   "source": [
    "### 綜合小練習 - (2)\n",
    "請複製上面的程式碼產生income字典，並且使用迴圈分別顯示每一天的收入總和!\n",
    "\n",
    "範例輸出: \n",
    "\n",
    "今天是:mon\n",
    "\n",
    "總收入:530\n",
    "\n",
    "---\n",
    "\n",
    "今天是:tue\n",
    "\n",
    "總收入:250\n",
    "\n",
    "---\n",
    "\n",
    "今天是:wed\n",
    "\n",
    "總收入:130\n",
    "\n",
    "---\n",
    "\n",
    "今天是:thu\n",
    "\n",
    "總收入:1180\n",
    "\n",
    "---\n",
    "\n",
    "今天是:fri\n",
    "\n",
    "總收入:525\n"
   ]
  },
  {
   "cell_type": "markdown",
   "metadata": {},
   "source": [
    "## 函式 - Function \n",
    "\n",
    "學完基本的變數、條件判斷、迴圈後，你已經掌握基本的Python技巧了！恭喜！\n",
    "\n",
    "接下來我們要透過 Function 來增加程式碼的「重複使用率」\n",
    "\n",
    "舉例來說，我們希望印出班上五個人的名字，並且名字之間使用特殊的符號分開："
   ]
  },
  {
   "cell_type": "code",
   "execution_count": 22,
   "metadata": {},
   "outputs": [
    {
     "name": "stdout",
     "output_type": "stream",
     "text": [
      "Hi! Allen!\n",
      "===========\n",
      "~~~~~~~~~~~\n",
      "===========\n",
      "\n",
      "Hi! Brian!\n",
      "===========\n",
      "~~~~~~~~~~~\n",
      "===========\n",
      "\n",
      "Hi! Cathy!\n",
      "===========\n",
      "~~~~~~~~~~~\n",
      "===========\n"
     ]
    }
   ],
   "source": [
    "print(\"Hi! Allen!\")\n",
    "print(\"===========\")\n",
    "print(\"~~~~~~~~~~~\")\n",
    "print(\"===========\")\n",
    "print()\n",
    "print(\"Hi! Brian!\")\n",
    "print(\"===========\")\n",
    "print(\"~~~~~~~~~~~\")\n",
    "print(\"===========\")\n",
    "print()\n",
    "print(\"Hi! Cathy!\")\n",
    "print(\"===========\")\n",
    "print(\"~~~~~~~~~~~\")\n",
    "print(\"===========\")"
   ]
  },
  {
   "cell_type": "markdown",
   "metadata": {},
   "source": [
    "可以發現在印出名字之間的邊界時，我們需要透過**很多行相同的程式碼**\n",
    "\n",
    "這些重複的程式碼雖然靠複製貼上就能完成，但是: \n",
    "+ 程式碼很冗長，包含了很多重複的資訊\n",
    "+ 可讀性很差\n",
    "\n",
    "現在看看下列的程式碼: \n",
    "```python\n",
    "print(\"Hi! Allen!\")\n",
    "print_border()\n",
    "print(\"Hi! Brian!\")\n",
    "print_border()\n",
    "print(\"Hi! Cathy!\")\n",
    "print_border()\n",
    "```\n",
    "\n",
    "如果我們能夠自己定義一個 function `print_border()`，對於程式碼的**簡潔程度**以及**可讀性**都會有很顯著的提升。"
   ]
  },
  {
   "cell_type": "markdown",
   "metadata": {},
   "source": [
    "### 函式 - 定義函式\n",
    "\n",
    "如同變數在使用前一定要先「宣告」，函式在定義前也必須要經過「宣告」，語法如下: \n",
    "\n",
    "```python\n",
    "def `<函式名稱>`():\n",
    "    `<要做的事情>`  # 特別注意縮排\n",
    "\n",
    "\n",
    "def print_border():\n",
    "    print(\"===========\")\n",
    "    print(\"~~~~~~~~~~~\")\n",
    "    print(\"===========\")\n",
    "    print()\n",
    "```"
   ]
  },
  {
   "cell_type": "code",
   "execution_count": 23,
   "metadata": {
    "collapsed": true
   },
   "outputs": [],
   "source": [
    "def print_border():\n",
    "    print(\"===========\")\n",
    "    print(\"~~~~~~~~~~~\")\n",
    "    print(\"===========\")\n",
    "    print()"
   ]
  },
  {
   "cell_type": "markdown",
   "metadata": {},
   "source": [
    "當你宣告完成後，實際呼叫函式試試！"
   ]
  },
  {
   "cell_type": "code",
   "execution_count": 24,
   "metadata": {},
   "outputs": [
    {
     "name": "stdout",
     "output_type": "stream",
     "text": [
      "Hi!Allen!\n",
      "===========\n",
      "~~~~~~~~~~~\n",
      "===========\n",
      "\n",
      "Hi!Brian!\n"
     ]
    }
   ],
   "source": [
    "print(\"Hi!Allen!\")\n",
    "print_border()  # 這行程式碼將會印出原先複雜的邊界\n",
    "print(\"Hi!Brian!\")"
   ]
  },
  {
   "cell_type": "markdown",
   "metadata": {},
   "source": [
    "你可以將函式想像成: 將複雜的程式碼**「打包」**到一個容器中，只需要**設定一次**，接下來你只需要知道: \n",
    "+ 此函式能夠做什麼\n",
    "+ 什麼時間該呼叫它"
   ]
  },
  {
   "cell_type": "markdown",
   "metadata": {},
   "source": [
    "### 函式 - 參數與回傳值\n",
    "\n",
    "剛剛介紹到的函式 `print_border()` 可以印出邊界，但如果我希望函式能夠根據**「情況」**來做不同的事情呢？\n",
    "\n",
    "舉例來說： 我希望能夠有一個函數可以根據**身高**及**體重**來計算BMI，但是我現在還不知道使用者的**身高體重**是多少。\n",
    "\n",
    "這時候可以透過**參數**來達到此目的，語法如下: \n",
    "\n",
    "```python\n",
    "def <函式名稱>(<參數1>, <參數2>):  # 你也可以有更多的參數\n",
    "    在Function中可對參數1,參數2進行操作\n",
    "    return <回傳值> # 當函數對「參數」做完該做的事情後，該回傳什麼東西?\n",
    "```\n",
    "\n",
    "```python\n",
    "def calculateBMI(height, weight):\n",
    "    bmi = weight / ((height)**2)\n",
    "    return bmi\n",
    "```"
   ]
  },
  {
   "cell_type": "code",
   "execution_count": 25,
   "metadata": {
    "collapsed": true
   },
   "outputs": [],
   "source": [
    "def calculateBMI(height, weight):\n",
    "    bmi = weight / ((height)**2)\n",
    "    return bmi"
   ]
  },
  {
   "cell_type": "markdown",
   "metadata": {},
   "source": [
    "當你定義參數後，在呼叫函式時必須提供這兩項資訊，否則會噴錯"
   ]
  },
  {
   "cell_type": "code",
   "execution_count": 26,
   "metadata": {},
   "outputs": [
    {
     "ename": "TypeError",
     "evalue": "calculateBMI() missing 2 required positional arguments: 'height' and 'weight'",
     "output_type": "error",
     "traceback": [
      "\u001b[0;31m---------------------------------------------------------------------------\u001b[0m",
      "\u001b[0;31mTypeError\u001b[0m                                 Traceback (most recent call last)",
      "\u001b[0;32m<ipython-input-26-509cd61c5368>\u001b[0m in \u001b[0;36m<module>\u001b[0;34m()\u001b[0m\n\u001b[0;32m----> 1\u001b[0;31m \u001b[0mcalculateBMI\u001b[0m\u001b[0;34m(\u001b[0m\u001b[0;34m)\u001b[0m\u001b[0;34m\u001b[0m\u001b[0m\n\u001b[0m",
      "\u001b[0;31mTypeError\u001b[0m: calculateBMI() missing 2 required positional arguments: 'height' and 'weight'"
     ]
    }
   ],
   "source": [
    "calculateBMI()"
   ]
  },
  {
   "cell_type": "code",
   "execution_count": 27,
   "metadata": {},
   "outputs": [
    {
     "name": "stdout",
     "output_type": "stream",
     "text": [
      "23.37472607742878\n",
      "21.847008520333322\n"
     ]
    }
   ],
   "source": [
    "print(calculateBMI(height=1.85, weight=80))\n",
    "print(calculateBMI(height=1.79, weight=70))"
   ]
  },
  {
   "cell_type": "markdown",
   "metadata": {},
   "source": [
    "如果有些參數是有**「預設值」**，那麼也可以在定義函式的時候提供:\n",
    "```python\n",
    "def userBMI(height, weight, name=\"Allen\"):\n",
    "    bmi = weight / ((height)**2)\n",
    "    return \"Hi! {}, Your BMI is:{}\".format(name, bmi)\n",
    "```"
   ]
  },
  {
   "cell_type": "code",
   "execution_count": 28,
   "metadata": {
    "collapsed": true
   },
   "outputs": [],
   "source": [
    "def userBMI(height, weight, name=\"Allen\"):\n",
    "    bmi = weight / ((height)**2)\n",
    "    return \"Hi! {}, Your BMI is:{}\".format(name, bmi)"
   ]
  },
  {
   "cell_type": "markdown",
   "metadata": {},
   "source": [
    "此時就算不提供**name**這項參數也不會噴錯，預設值會是 \"Allen\"\n",
    "\n",
    "但是 height 及 weight 因為沒有預設值，還是必須要提供，否則會噴錯"
   ]
  },
  {
   "cell_type": "code",
   "execution_count": 29,
   "metadata": {},
   "outputs": [
    {
     "name": "stdout",
     "output_type": "stream",
     "text": [
      "Hi! Allen, Your BMI is:35.55555555555556\n",
      "Hi! Brian, Your BMI is:27.68166089965398\n"
     ]
    }
   ],
   "source": [
    "print(userBMI(height=1.5, weight=80)) # 沒有提供name\n",
    "print(userBMI(height=1.7, weight=80, name=\"Brian\")) # 有提供name"
   ]
  },
  {
   "cell_type": "code",
   "execution_count": 30,
   "metadata": {},
   "outputs": [
    {
     "ename": "TypeError",
     "evalue": "userBMI() missing 1 required positional argument: 'weight'",
     "output_type": "error",
     "traceback": [
      "\u001b[0;31m---------------------------------------------------------------------------\u001b[0m",
      "\u001b[0;31mTypeError\u001b[0m                                 Traceback (most recent call last)",
      "\u001b[0;32m<ipython-input-30-a9a7196b7c49>\u001b[0m in \u001b[0;36m<module>\u001b[0;34m()\u001b[0m\n\u001b[0;32m----> 1\u001b[0;31m \u001b[0mprint\u001b[0m\u001b[0;34m(\u001b[0m\u001b[0muserBMI\u001b[0m\u001b[0;34m(\u001b[0m\u001b[0mheight\u001b[0m\u001b[0;34m=\u001b[0m\u001b[0;36m1.5\u001b[0m\u001b[0;34m)\u001b[0m\u001b[0;34m)\u001b[0m \u001b[0;31m# 沒有提供weight，因為沒有預設值，所以會噴錯\u001b[0m\u001b[0;34m\u001b[0m\u001b[0m\n\u001b[0m",
      "\u001b[0;31mTypeError\u001b[0m: userBMI() missing 1 required positional argument: 'weight'"
     ]
    }
   ],
   "source": [
    "print(userBMI(height=1.5)) # 沒有提供weight，因為沒有預設值，所以會噴錯 "
   ]
  },
  {
   "cell_type": "markdown",
   "metadata": {},
   "source": [
    "### 關於函數..."
   ]
  },
  {
   "cell_type": "markdown",
   "metadata": {},
   "source": [
    "有了函數後，我們只需要在乎: \n",
    "+ 該提供什麼Input給函數\n",
    "+ 函數會提供什麼Output給我們\n",
    "\n",
    "在多人協作時，只需要溝通好Input及Output，不需要管每個人的程式碼是寫什麼(除非真的很爛)\n",
    "\n",
    "在瞭解函式後，接下來你將會發現Python最棒的**「套件」**，將改變你的程式世界！"
   ]
  },
  {
   "cell_type": "markdown",
   "metadata": {},
   "source": [
    "### 本週小練習 - (3)\n",
    "\n",
    "請嘗試撰寫一個函數，當你提供本週小練習-(1)的income字典後，能夠自動幫你印出其中每一天的收入總和！"
   ]
  }
 ],
 "metadata": {
  "kernelspec": {
   "display_name": "Python 3",
   "language": "python",
   "name": "python3"
  },
  "language_info": {
   "codemirror_mode": {
    "name": "ipython",
    "version": 3
   },
   "file_extension": ".py",
   "mimetype": "text/x-python",
   "name": "python",
   "nbconvert_exporter": "python",
   "pygments_lexer": "ipython3",
   "version": "3.6.1"
  }
 },
 "nbformat": 4,
 "nbformat_minor": 2
}
