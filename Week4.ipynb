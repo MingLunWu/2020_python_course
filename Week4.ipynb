{
 "cells": [
  {
   "cell_type": "markdown",
   "metadata": {},
   "source": [
    "# 2020 網研社 - Python Week 4\n",
    "\n",
    "[上週教材 - 2020 網研社 - Python Week3](https://github.com/MingLunWu/2020_python_course/blob/master/Week3.ipynb)"
   ]
  },
  {
   "cell_type": "markdown",
   "metadata": {},
   "source": [
    "## 資料型態 - 字典 (Dictionary)\n",
    "\n",
    "截至目前為止，我們介紹過了幾種 Python 的資料型態，包含: \n",
    "1. int (整數) `*Week1*`\n",
    "2. float (浮點數) `*Week1*`\n",
    "3. str (字串) `*Week1*`\n",
    "4. bool (布林) `*Week1*`\n",
    "5. list (串列) `*Week3*`\n",
    "\n",
    "接下來我們要介紹第六種資料型態- **字典(Dictionary)** \n",
    "\n",
    "上一週在介紹串列時，提到串列的兩種特性 : \n",
    "+ 前後必須要透過 `[` 以及 `]` 包覆。\n",
    "+ 串列中的元素必須要透過 `,` 來區隔。\n",
    "\n",
    "字典也有?種特性:\n",
    "+ 前後必須要透過 `{` 以及 `}` 包覆。\n",
    "+ 字典中的每一個元素都是透過 `,` 來區隔。\n",
    "+ 字典中的每一個元素是由**`Key`**及**`Value`**組成。\n",
    "\n",
    "結構: \n",
    "```python\n",
    "sample=  {\"key\": \"value\", \"key_2\": \"value_2\"}\n",
    "```"
   ]
  },
  {
   "cell_type": "markdown",
   "metadata": {},
   "source": [
    "### 字典 - 初始化 "
   ]
  },
  {
   "cell_type": "code",
   "execution_count": 2,
   "metadata": {},
   "outputs": [
    {
     "name": "stdout",
     "output_type": "stream",
     "text": [
      "{}\n",
      "<class 'dict'>\n"
     ]
    }
   ],
   "source": [
    "test_dict = dict()\n",
    "print(test_dict)\n",
    "print(type(test_dict))"
   ]
  },
  {
   "cell_type": "markdown",
   "metadata": {},
   "source": [
    "另外一種初始化的方式:"
   ]
  },
  {
   "cell_type": "code",
   "execution_count": 3,
   "metadata": {},
   "outputs": [
    {
     "name": "stdout",
     "output_type": "stream",
     "text": [
      "{}\n",
      "<class 'dict'>\n"
     ]
    }
   ],
   "source": [
    "test_dict_2 = {}\n",
    "print(test_dict_2)\n",
    "print(type(test_dict_2))"
   ]
  },
  {
   "cell_type": "markdown",
   "metadata": {},
   "source": [
    "### 字典 - 設定值\n",
    "\n",
    "字典的每一項元素都是由 **Key** 及 **Value** 組成，在設定時必須要同時提供**Key**及**Value**:\n",
    "\n",
    "```python\n",
    "sample = dict()  # 初始化宣告一個字典\n",
    "sample[\"apple\"] = 60  # 設定一個元素，其Key為\"apple\"，Value則為60 \n",
    "```"
   ]
  },
  {
   "cell_type": "code",
   "execution_count": 10,
   "metadata": {},
   "outputs": [
    {
     "name": "stdout",
     "output_type": "stream",
     "text": [
      "{'banana': 5}\n"
     ]
    }
   ],
   "source": [
    "test_dict_3 = dict()\n",
    "test_dict_3[\"banana\"] = 5\n",
    "print(test_dict_3)"
   ]
  },
  {
   "cell_type": "markdown",
   "metadata": {},
   "source": [
    "Dictionary中的每一個**Key**可以是任何型態的變數，但通常會使用**字串**"
   ]
  },
  {
   "cell_type": "code",
   "execution_count": 15,
   "metadata": {},
   "outputs": [
    {
     "name": "stdout",
     "output_type": "stream",
     "text": [
      "{'guava': 2.33, 555: 556}\n"
     ]
    }
   ],
   "source": [
    "test_dict_4 = dict()\n",
    "test_dict_4[\"guava\"] = 2.33  # \"guava\"是個字串，可以當作Key\n",
    "test_dict_4[555] = 556 # 555是個整數，可以當作Key\n",
    "print(test_dict_4)"
   ]
  },
  {
   "cell_type": "markdown",
   "metadata": {},
   "source": [
    "特別注意！Dictionary中的每一個 **Key** 都是**獨一無二**的，不會有兩個元素有相同的**Key**。\n",
    "\n",
    "在設定元素時，如果字典中已經有元素「具有**相同**的Key」，則Value將會直接覆蓋。"
   ]
  },
  {
   "cell_type": "code",
   "execution_count": 26,
   "metadata": {},
   "outputs": [
    {
     "name": "stdout",
     "output_type": "stream",
     "text": [
      "{'pen': 10, 'pencil': 5}\n"
     ]
    }
   ],
   "source": [
    "test_dict_5 = {\"pen\":10, \"pencil\":5}\n",
    "print(test_dict_5)"
   ]
  },
  {
   "cell_type": "code",
   "execution_count": 29,
   "metadata": {},
   "outputs": [
    {
     "name": "stdout",
     "output_type": "stream",
     "text": [
      "{'pen': 100000, 'pencil': 5}\n"
     ]
    }
   ],
   "source": [
    "test_dict_5[\"pen\"] = 100000  # 字典中已經存在Key為\"pen\"的元素\n",
    "print(test_dict_5) # 還是只有兩個元素，但是\"pen\"的Value已經被覆蓋。"
   ]
  },
  {
   "cell_type": "markdown",
   "metadata": {},
   "source": [
    "### 字典的用處 - 貼標籤 \n",
    "\n",
    "字典(Dict)有別於串列(List)，可以根據使用者的需求將**Value**貼上特定的**Key**，在取用時只要透過這些**Key**就可以取得這些值。\n",
    "\n",
    "舉例來說： 如果你是一個水果攤老闆，今天你需要透過**一個變數**來紀錄本日水果進貨的價格: \n",
    "\n",
    "|水果|進貨價格|\n",
    "|:---:|:---:|\n",
    "|apple|50|\n",
    "|banana|60|\n",
    "|guava|70|\n",
    "|cherry|120|\n",
    "|grape|80|\n"
   ]
  },
  {
   "cell_type": "markdown",
   "metadata": {},
   "source": [
    "你可以透過 List 來儲存這些資訊 : "
   ]
  },
  {
   "cell_type": "code",
   "execution_count": 16,
   "metadata": {
    "collapsed": true
   },
   "outputs": [],
   "source": [
    "today_fruit_price = [50, 60, 70, 120, 80]"
   ]
  },
  {
   "cell_type": "markdown",
   "metadata": {},
   "source": [
    "請你取出 **cherry** 的價格: \n",
    "\n",
    "在查看了上表後，你知道**cherry**是第四項，所以你可以使用: "
   ]
  },
  {
   "cell_type": "code",
   "execution_count": 17,
   "metadata": {},
   "outputs": [
    {
     "name": "stdout",
     "output_type": "stream",
     "text": [
      "120\n"
     ]
    }
   ],
   "source": [
    "print(today_fruit_price[3])"
   ]
  },
  {
   "cell_type": "markdown",
   "metadata": {},
   "source": [
    "**如果你使用Dictionary**來儲存這些資訊: "
   ]
  },
  {
   "cell_type": "code",
   "execution_count": 19,
   "metadata": {},
   "outputs": [
    {
     "name": "stdout",
     "output_type": "stream",
     "text": [
      "{'apple': 50, 'banana': 60, 'guava': 70, 'cherry': 120, 'grape': 80}\n"
     ]
    }
   ],
   "source": [
    "today_fruit_price_dict = dict()\n",
    "today_fruit_price_dict[\"apple\"] = 50\n",
    "today_fruit_price_dict[\"banana\"] = 60\n",
    "today_fruit_price_dict[\"guava\"] = 70\n",
    "today_fruit_price_dict[\"cherry\"] = 120\n",
    "today_fruit_price_dict[\"grape\"] = 80\n",
    "print(today_fruit_price_dict)"
   ]
  },
  {
   "cell_type": "markdown",
   "metadata": {},
   "source": [
    "此時要取出 **Cherry**的值就單純多了: "
   ]
  },
  {
   "cell_type": "code",
   "execution_count": 20,
   "metadata": {},
   "outputs": [
    {
     "name": "stdout",
     "output_type": "stream",
     "text": [
      "120\n"
     ]
    }
   ],
   "source": [
    "print(today_fruit_price_dict[\"cherry\"])"
   ]
  },
  {
   "cell_type": "markdown",
   "metadata": {},
   "source": [
    "### 字典 - 取出值\n",
    "\n",
    "根據特定的**Key**來取出**Value**，透過下列語法： \n",
    "\n",
    "```python\n",
    "`<字典>`[`<KEY>`]\n",
    "today_fruit_price_dict[\"apple\"] # 從today_fruit_price_dict中取出Key為\"apple\"的值\n",
    "```"
   ]
  },
  {
   "cell_type": "code",
   "execution_count": 21,
   "metadata": {},
   "outputs": [
    {
     "data": {
      "text/plain": [
       "50"
      ]
     },
     "execution_count": 21,
     "metadata": {},
     "output_type": "execute_result"
    }
   ],
   "source": [
    "today_fruit_price_dict[\"apple\"] "
   ]
  },
  {
   "cell_type": "markdown",
   "metadata": {},
   "source": [
    "但如果要求取得**字典中並不存在的Key**就會噴錯:"
   ]
  },
  {
   "cell_type": "code",
   "execution_count": 23,
   "metadata": {},
   "outputs": [
    {
     "ename": "KeyError",
     "evalue": "'rabbit'",
     "output_type": "error",
     "traceback": [
      "\u001b[0;31m---------------------------------------------------------------------------\u001b[0m",
      "\u001b[0;31mKeyError\u001b[0m                                  Traceback (most recent call last)",
      "\u001b[0;32m<ipython-input-23-3f7419bfd8f0>\u001b[0m in \u001b[0;36m<module>\u001b[0;34m()\u001b[0m\n\u001b[0;32m----> 1\u001b[0;31m \u001b[0mprint\u001b[0m\u001b[0;34m(\u001b[0m\u001b[0mtoday_fruit_price_dict\u001b[0m\u001b[0;34m[\u001b[0m\u001b[0;34m\"rabbit\"\u001b[0m\u001b[0;34m]\u001b[0m\u001b[0;34m)\u001b[0m\u001b[0;34m\u001b[0m\u001b[0m\n\u001b[0m",
      "\u001b[0;31mKeyError\u001b[0m: 'rabbit'"
     ]
    }
   ],
   "source": [
    "print(today_fruit_price_dict[\"rabbit\"])"
   ]
  },
  {
   "cell_type": "markdown",
   "metadata": {},
   "source": [
    "為了避免噴錯，可以透過下列語法來取值：\n",
    "\n",
    "```python\n",
    "`<字典>`.get(`<KEY>`, `<替代值>`) \n",
    "\n",
    "# 從today_fruit_price_dict中取出Key為\"rabbit\"的值，如果不存在，則用-1當成value\n",
    "today_fruit_price_dict.get(\"rabbit\", -1)\n",
    "```"
   ]
  },
  {
   "cell_type": "code",
   "execution_count": 25,
   "metadata": {},
   "outputs": [
    {
     "name": "stdout",
     "output_type": "stream",
     "text": [
      "-1\n"
     ]
    }
   ],
   "source": [
    "print(today_fruit_price_dict.get(\"rabbit\", -1))"
   ]
  },
  {
   "cell_type": "markdown",
   "metadata": {},
   "source": [
    "### 各種型態的Value\n",
    "\n",
    "字典厲害的地方在於各種型態的**Value**都可以儲存，舉例來說： \n",
    "\n",
    "你是一位餐廳老闆，你的餐廳每天都只收五位客人，你希望記錄每天的每一筆收入:\n",
    "\n",
    "|天數|客人1|客人2|客人3|客人4|客人5|\n",
    "|:---:|:---:|\n",
    "|Monday|50|80|100|200|100|\n",
    "|Tuesday|60|20|30|80|60|\n",
    "|Wednesday|70|10|20|25|5|\n",
    "|Thursday|120|200|200|500|160|\n",
    "|Friday|80|100|20|300|25|\n",
    "\n",
    "\n",
    "因為客人之間並沒有次序關係，我們使用List來儲存每一天的收入！: \n",
    "```python\n",
    "monday_income = [50,80,100,200,100]\n",
    "tuesday_income = [60,20,30,80,60]\n",
    "wednesday_income = [70, 10, 20, 25, 5]\n",
    "thursday_income = [120,200,200,500,160]\n",
    "friday_income = [80, 100, 20, 300, 25]\n",
    "```\n",
    "\n",
    "但是因為不同天的收入是有次序關係的，這時候我們就需要使用字典來儲存: \n",
    "```python\n",
    "income = {\n",
    "    \"mon\": monday_income,\n",
    "    \"tue\": tuesday_income,\n",
    "    \"wed\": wednesday_income,\n",
    "    \"thu\": thursday_income,\n",
    "    \"fri\": friday_income\n",
    "}\n",
    "```"
   ]
  },
  {
   "cell_type": "markdown",
   "metadata": {},
   "source": [
    "### 綜合小練習\n",
    "\n",
    "請複製上面的程式碼產生`income`字典，並且使用 **for 迴圈**來計算**禮拜三**的收入總和!"
   ]
  },
  {
   "cell_type": "code",
   "execution_count": null,
   "metadata": {
    "collapsed": true
   },
   "outputs": [],
   "source": []
  }
 ],
 "metadata": {
  "kernelspec": {
   "display_name": "Python 3",
   "language": "python",
   "name": "python3"
  },
  "language_info": {
   "codemirror_mode": {
    "name": "ipython",
    "version": 3
   },
   "file_extension": ".py",
   "mimetype": "text/x-python",
   "name": "python",
   "nbconvert_exporter": "python",
   "pygments_lexer": "ipython3",
   "version": "3.6.1"
  }
 },
 "nbformat": 4,
 "nbformat_minor": 2
}
