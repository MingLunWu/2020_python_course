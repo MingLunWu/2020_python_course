{
 "cells": [
  {
   "cell_type": "markdown",
   "metadata": {},
   "source": [
    "# 2020網研社 - Python Week 2"
   ]
  },
  {
   "cell_type": "markdown",
   "metadata": {},
   "source": [
    "## 輸入資訊 - input( )\n",
    "\n",
    "在前一週的內容，我們提到 `print()`可以輸出某些資訊，與之相對的是 `input()`，讓**使用者輸入資訊給電腦**\n",
    "\n",
    "語法: \n",
    "```python\n",
    "input(\"要輸出的訊息\")\n",
    "```\n",
    "\n",
    "\n",
    "需要特別注意: `input()`所輸入的資訊預設是 `string`型態"
   ]
  },
  {
   "cell_type": "code",
   "execution_count": 1,
   "metadata": {},
   "outputs": [
    {
     "name": "stdout",
     "output_type": "stream",
     "text": [
      "Please input something:123\n",
      "123\n"
     ]
    }
   ],
   "source": [
    "test = input(\"Please input something:\")\n",
    "print(test)"
   ]
  },
  {
   "cell_type": "markdown",
   "metadata": {},
   "source": [
    "看看下面這個例子，為什麼預期的內容跟我們想像的不太一樣？"
   ]
  },
  {
   "cell_type": "code",
   "execution_count": 2,
   "metadata": {},
   "outputs": [
    {
     "name": "stdout",
     "output_type": "stream",
     "text": [
      "請輸入變數a:20\n",
      "請輸入變數b:30\n",
      "變數 a+b 的值是: 2030\n"
     ]
    }
   ],
   "source": [
    "a = input(\"請輸入變數a:\")\n",
    "b = input(\"請輸入變數b:\")\n",
    "print(\"變數 a+b 的值是: \" + (a+b))"
   ]
  },
  {
   "cell_type": "markdown",
   "metadata": {},
   "source": [
    "## 條件判斷\n",
    "\n",
    "條件判斷的概念在於: **預先定義好規則，讓程式按照規則進行不同的任務**: \n",
    "\n",
    "+ **如果**「米羅的人數少於60人」，**那麼**「我就吃米羅」\n",
    "+ **如果**「停車位的數量大於300個位置」，**那麼**「我就辦車證」，**否則**「300元就送它了」\n",
    "\n",
    "\n",
    "這樣的好處是什麼？\n",
    "\n",
    "\n",
    "Python 提供了下列三種保留字來進行條件判斷: \n",
    "+ `if` (如果)\n",
    "+ `else` (否則)\n",
    "+ `elif` (但是當..)"
   ]
  },
  {
   "cell_type": "markdown",
   "metadata": {},
   "source": [
    "### if\n",
    "語法:\n",
    "```python\n",
    "if <條件> :\n",
    "    <條件為`True`時要做的事情>\n",
    "```"
   ]
  },
  {
   "cell_type": "code",
   "execution_count": 3,
   "metadata": {},
   "outputs": [
    {
     "name": "stdout",
     "output_type": "stream",
     "text": [
      "世界正常運轉\n"
     ]
    }
   ],
   "source": [
    "if 5 > 2:\n",
    "    print(\"世界正常運轉\")"
   ]
  },
  {
   "cell_type": "code",
   "execution_count": 4,
   "metadata": {},
   "outputs": [
    {
     "name": "stdout",
     "output_type": "stream",
     "text": [
      "整除\n"
     ]
    }
   ],
   "source": [
    "if 20 % 5 == 0:\n",
    "    print(\"整除\")"
   ]
  },
  {
   "cell_type": "markdown",
   "metadata": {},
   "source": [
    "### if-else\n",
    "語法:\n",
    "```python\n",
    "if <條件> :\n",
    "    <條件為`True`時要做的事情>\n",
    "else: \n",
    "    <條件為`False`時要做的事情>\n",
    "```"
   ]
  },
  {
   "cell_type": "code",
   "execution_count": 5,
   "metadata": {},
   "outputs": [
    {
     "name": "stdout",
     "output_type": "stream",
     "text": [
      "世界正常運轉\n"
     ]
    }
   ],
   "source": [
    "if 5>2:\n",
    "    print(\"世界正常運轉\")\n",
    "else:\n",
    "    print(\"世界好像怪怪的\")"
   ]
  },
  {
   "cell_type": "code",
   "execution_count": 6,
   "metadata": {},
   "outputs": [
    {
     "name": "stdout",
     "output_type": "stream",
     "text": [
      "請輸入你的年齡:25\n"
     ]
    },
    {
     "ename": "TypeError",
     "evalue": "'<' not supported between instances of 'str' and 'int'",
     "output_type": "error",
     "traceback": [
      "\u001b[0;31m---------------------------------------------------------------------------\u001b[0m",
      "\u001b[0;31mTypeError\u001b[0m                                 Traceback (most recent call last)",
      "\u001b[0;32m<ipython-input-6-f0bdd94e00db>\u001b[0m in \u001b[0;36m<module>\u001b[0;34m()\u001b[0m\n\u001b[1;32m      1\u001b[0m \u001b[0mage\u001b[0m \u001b[0;34m=\u001b[0m \u001b[0minput\u001b[0m\u001b[0;34m(\u001b[0m\u001b[0;34m\"請輸入你的年齡:\"\u001b[0m\u001b[0;34m)\u001b[0m\u001b[0;34m\u001b[0m\u001b[0m\n\u001b[1;32m      2\u001b[0m \u001b[0;34m\u001b[0m\u001b[0m\n\u001b[0;32m----> 3\u001b[0;31m \u001b[0;32mif\u001b[0m \u001b[0mage\u001b[0m \u001b[0;34m<\u001b[0m \u001b[0;36m24\u001b[0m\u001b[0;34m:\u001b[0m\u001b[0;34m\u001b[0m\u001b[0m\n\u001b[0m\u001b[1;32m      4\u001b[0m     \u001b[0mprint\u001b[0m\u001b[0;34m(\u001b[0m\u001b[0;34m\"青春無敵!\"\u001b[0m\u001b[0;34m)\u001b[0m\u001b[0;34m\u001b[0m\u001b[0m\n\u001b[1;32m      5\u001b[0m \u001b[0;32melse\u001b[0m\u001b[0;34m:\u001b[0m\u001b[0;34m\u001b[0m\u001b[0m\n",
      "\u001b[0;31mTypeError\u001b[0m: '<' not supported between instances of 'str' and 'int'"
     ]
    }
   ],
   "source": [
    "age = input(\"請輸入你的年齡:\")\n",
    "\n",
    "if age < 24:\n",
    "    print(\"青春無敵!\")\n",
    "else:\n",
    "    print(\"學長你是誰...?\")"
   ]
  },
  {
   "cell_type": "code",
   "execution_count": 7,
   "metadata": {},
   "outputs": [
    {
     "name": "stdout",
     "output_type": "stream",
     "text": [
      "請輸入你的年齡:25\n",
      "學長你是誰...?\n"
     ]
    }
   ],
   "source": [
    "age = input(\"請輸入你的年齡:\")\n",
    "\n",
    "if int(age) < 24:\n",
    "    print(\"青春無敵!\")\n",
    "else:\n",
    "    print(\"學長你是誰...?\")"
   ]
  },
  {
   "cell_type": "markdown",
   "metadata": {},
   "source": [
    "### elif \n",
    "語法: \n",
    "```python\n",
    "if a == b:\n",
    "    print(\"a==b\")\n",
    "elif a > b:\n",
    "    print(\"a>b\")\n",
    "else: \n",
    "    print(\"a<b\")\n",
    "    \n",
    "```"
   ]
  },
  {
   "cell_type": "markdown",
   "metadata": {},
   "source": [
    "### 縮排 (indention)\n",
    "在Python中，依靠縮排來判斷程式碼屬於哪個層級"
   ]
  },
  {
   "cell_type": "code",
   "execution_count": 8,
   "metadata": {},
   "outputs": [
    {
     "name": "stdout",
     "output_type": "stream",
     "text": [
      "請輸入某個數值:5\n",
      "variable > 2\n",
      "變數 大於 2\n",
      "這一行不管怎麼樣都會印出來\n"
     ]
    }
   ],
   "source": [
    "variable = int(input(\"請輸入某個數值:\"))\n",
    "\n",
    "if variable>2: \n",
    "    print(\"variable > 2\")\n",
    "    print(\"變數 大於 2\")\n",
    "print(\"這一行不管怎麼樣都會印出來\")"
   ]
  },
  {
   "cell_type": "markdown",
   "metadata": {},
   "source": [
    "### 巢狀條件判斷\n",
    "\n",
    "了解條件判斷的概念後，可以在 條件判斷 之中放入 條件判斷，稱之為巢狀 (Nested)"
   ]
  },
  {
   "cell_type": "code",
   "execution_count": 9,
   "metadata": {},
   "outputs": [
    {
     "name": "stdout",
     "output_type": "stream",
     "text": [
      "請輸入出生年份:1996\n",
      "請輸入出生月份:07\n",
      "請輸入出生日期:24\n"
     ]
    }
   ],
   "source": [
    "year = int(input(\"請輸入出生年份:\"))\n",
    "month = int(input(\"請輸入出生月份:\"))\n",
    "date = int(input(\"請輸入出生日期:\"))\n",
    "\n",
    "if year > 2020 or year < 1900: \n",
    "    print(\"年份好像有點錯誤！\")\n",
    "else:\n",
    "    if date > 31:\n",
    "        print(\"日期好像有點錯誤！\")\n",
    "    elif date < 1: \n",
    "        print(\"日期好像有點錯誤!\")"
   ]
  },
  {
   "cell_type": "markdown",
   "metadata": {},
   "source": [
    "## 本週小練習\n",
    "\n",
    "請延續上週的BMI計算: \n",
    "\n",
    "撰寫一個計算機，可以輸入自己的身高及體重，最終輸出BMI以及身體狀態\n",
    "\n",
    "[BMI資訊參考連結](https://health99.hpa.gov.tw/OnlinkHealth/Onlink_BMI.aspx)"
   ]
  },
  {
   "cell_type": "markdown",
   "metadata": {},
   "source": [
    "## 本週小練習 - Answer"
   ]
  },
  {
   "cell_type": "code",
   "execution_count": 10,
   "metadata": {},
   "outputs": [
    {
     "name": "stdout",
     "output_type": "stream",
     "text": [
      "請輸入你的身高(cm):200\n",
      "請輸入你的體重:45\n",
      "您的BMI指數為:11.25, 身體狀況為:體重過輕, 請隨時注意身體狀況\n"
     ]
    }
   ],
   "source": [
    "# 使用者輸入資訊\n",
    "height = float(input(\"請輸入你的身高(cm):\"))# 使用者提供公分，我們將其轉換為公尺\n",
    "weight = float(input(\"請輸入你的體重:\"))\n",
    "\n",
    "height = height / 100 # 轉換單位為公尺\n",
    "\n",
    "userBMI = weight / (height**2)\n",
    "\n",
    "# 根據BMI 設定體位\n",
    "if userBMI < 18.5:\n",
    "    status = \"體重過輕\"\n",
    "elif 18.5 <= userBMI < 24:\n",
    "    status = \"健康體位\"\n",
    "elif 24 <= userBMI < 27:\n",
    "    status = \"過重\"\n",
    "elif 27 <= userBMI < 30:\n",
    "    status = \"輕度肥胖\"\n",
    "elif 30 <= userBMI < 35:\n",
    "    status = \"中度肥胖\"\n",
    "else:\n",
    "    status = \"重度肥胖\"\n",
    "    \n",
    "if status == \"健康體位\":\n",
    "    print(\"恭喜您! 您的BMI指數為:{}, 身體狀況為:{}\".format(userBMI, status))\n",
    "else:\n",
    "    print(\"您的BMI指數為:{}, 身體狀況為:{}, 請隨時注意身體狀況\".format(userBMI, status))\n"
   ]
  }
 ],
 "metadata": {
  "kernelspec": {
   "display_name": "Python 3",
   "language": "python",
   "name": "python3"
  },
  "language_info": {
   "codemirror_mode": {
    "name": "ipython",
    "version": 3
   },
   "file_extension": ".py",
   "mimetype": "text/x-python",
   "name": "python",
   "nbconvert_exporter": "python",
   "pygments_lexer": "ipython3",
   "version": "3.6.1"
  }
 },
 "nbformat": 4,
 "nbformat_minor": 2
}
