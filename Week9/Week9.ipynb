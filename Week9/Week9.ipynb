{
 "cells": [
  {
   "cell_type": "markdown",
   "metadata": {},
   "source": [
    "# 2020 網研社 - Python Week 9\n",
    "\n",
    "[上週教材 - 2020 網研社 - Python Week8](https://github.com/MingLunWu/2020_python_course/blob/master/Week8/Week8.ipynb)"
   ]
  },
  {
   "cell_type": "markdown",
   "metadata": {},
   "source": [
    "# 關於文字的比對\n",
    "\n",
    "還記得在上週的課程，我們想要從標題中篩選具有\"[租屋]\"的文章，我們用了下列的語法：\n",
    "\n",
    "```python\n",
    "if \"[租屋]\" in title:\n",
    "    # 做某件事情\n",
    "```\n",
    "\n",
    "`\"xxx\" in <字串>` 的語法，用來判斷<字串>變數中是不是包含`\"xxx\"`這個值。\n",
    "\n",
    "然而比較字串時，我們會遇到更複雜的問題，例如：\n",
    "1. 只想要英文、不想要中文\n",
    "2. 想要判斷電子郵件是否正確\n",
    "3. 想要判斷電話格式是否正確\n",
    "\n",
    "這時候單純使用 `in` 語法是不夠的！ 我們會需要使用到**正規表示式 (Regular Expression)**\n",
    "\n",
    "---\n",
    "# 正規表示式\n",
    "\n",
    "正規表示式是用來「表示」「特定的規則」\n",
    "\n",
    "在比對字串時，可以使用正規表示式來訂出符合自己條件的規則！\n",
    "\n",
    "|符號|解釋|舉例|說明|\n",
    "|:-:|:--:|:--:|:--:|\n",
    "|.|任意字元|b.t|b+任何字元+t|\n",
    "|\\s|空白字元|love\\syou|\"love you\"|\n",
    "|\\d|任意數字|\\d\\d|任何兩位數字|\n",
    "|\\w|字母、數字、底線|b\\wt|bat,b2t,b_t,但b#t不行|\n",
    "|[]|其中的任何符號皆可|b[aeiou]t|bat,bet,bit,bot,but|\n",
    "|[^]|不在其中的任何符號皆可|[^aeiou]|所有子音字母|\n",
    "|*|0次~多次皆可|ae*|a,ae,aee,aeee..|\n",
    "|+|1次~多次皆可|ae+|ae,aee,aeee..|\n",
    "|?|0次~1次皆可|ae?|a,ae|\n",
    "|{N}|出現N次|\\d{3}|恰好三位數值|\n",
    "|{M,}|至少出現M次|\\d{3,}|三位數以上的數值|\n",
    "|{M,N}|至少出現M~N次|\\d{3,5}|三到五位數|\n",
    "|^a|以a為開頭|^The|任何以The開頭的字串|\n",
    "|a\\$| 以\\$結尾|.exe$|以.exe結尾|\n",
    "\n",
    "\n",
    "學習 Regular Expression 可以使用[下列網站](https://regex101.com)進行嘗試"
   ]
  },
  {
   "cell_type": "markdown",
   "metadata": {},
   "source": [
    "# 小練習 \n",
    "1. 請找出所有數字\n",
    "```\n",
    "abc123xyz\n",
    "define \"123\"\n",
    "var g = 123;\n",
    "```\n",
    "<br>\n",
    "2. 請寫出正規表示式，符合所有條件:\n",
    "```\n",
    "abcdefg\n",
    "abcde\n",
    "abc\n",
    "```\n",
    "<br>\n",
    "3. 請寫出正規表示式，符合所有條件:\n",
    "```\n",
    "包含:\n",
    "can\n",
    "man\n",
    "fan\n",
    "不包含:\n",
    "dan \n",
    "ran\n",
    "pan\n",
    "```"
   ]
  },
  {
   "cell_type": "markdown",
   "metadata": {},
   "source": [
    "# 在Python中使用正規表示式 - re 套件 \n",
    "\n",
    "使用前需要先載入: \n",
    "```python\n",
    "import re\n",
    "```\n",
    "\n",
    "## 尋找符合條件的字串 - re.search\n",
    "\n",
    "語法: **re.search(<規則>, <字串>)**"
   ]
  },
  {
   "cell_type": "code",
   "execution_count": 1,
   "metadata": {},
   "outputs": [],
   "source": [
    "import re"
   ]
  },
  {
   "cell_type": "code",
   "execution_count": 2,
   "metadata": {},
   "outputs": [
    {
     "data": {
      "text/plain": [
       "<re.Match object; span=(14, 18), match='bird'>"
      ]
     },
     "execution_count": 2,
     "metadata": {},
     "output_type": "execute_result"
    }
   ],
   "source": [
    "test = \"I am a little bird\"\n",
    "re.search(\"b.*d\", test)"
   ]
  },
  {
   "cell_type": "code",
   "execution_count": 4,
   "metadata": {},
   "outputs": [
    {
     "data": {
      "text/plain": [
       "(14, 18)"
      ]
     },
     "execution_count": 4,
     "metadata": {},
     "output_type": "execute_result"
    }
   ],
   "source": [
    "re.search(\"b.*d\", test).span()"
   ]
  },
  {
   "cell_type": "code",
   "execution_count": 5,
   "metadata": {},
   "outputs": [
    {
     "data": {
      "text/plain": [
       "'bird'"
      ]
     },
     "execution_count": 5,
     "metadata": {},
     "output_type": "execute_result"
    }
   ],
   "source": [
    "test[14:18]"
   ]
  },
  {
   "cell_type": "markdown",
   "metadata": {},
   "source": [
    "如果在搜尋時沒有搜尋到東西，`re.search()`將會回傳`None`\n",
    "\n",
    "透過此項特性，我們可以將其加入到 `if-else`條件式中:\n",
    "\n",
    "```python\n",
    "if re.search(\"規則\", \"字串\") is not None:\n",
    "    #代表有找到\n",
    "else:\n",
    "```"
   ]
  },
  {
   "cell_type": "markdown",
   "metadata": {},
   "source": [
    "## 小練習 \n",
    "請完成下列程式碼！"
   ]
  },
  {
   "cell_type": "code",
   "execution_count": 22,
   "metadata": {},
   "outputs": [
    {
     "name": "stdout",
     "output_type": "stream",
     "text": [
      "真的郵件!\n",
      "假的郵件!\n",
      "假的郵件!\n",
      "真的郵件!\n"
     ]
    }
   ],
   "source": [
    "test_email = [\"allen@gmail.com\", \"test@fakemail\", \"dfi;oajdfaio;w\",\"rogher@yahoo.com\"]\n",
    "\n",
    "for a_mail in test_email:\n",
    "    if None:\n",
    "        print(\"真的郵件!\")\n",
    "    else:\n",
    "        print(\"假的郵件!\")"
   ]
  },
  {
   "cell_type": "markdown",
   "metadata": {},
   "source": [
    "## 小練習\n",
    "請找出 \"xxx萬xxxx元\"在文章中的位置"
   ]
  },
  {
   "cell_type": "code",
   "execution_count": 6,
   "metadata": {},
   "outputs": [],
   "source": [
    "question = \"台南市歸仁區沙崙納骨塔附近昨晚雜草大火，臭煙味飄散到下風處高雄市，空氣品質變差，不僅高雄居民不滿，就連高雄市長陳其邁也要台南市長黃偉哲出來面對。台南市環保局為了平息眾怒，今天以土地管理不善為由，對土地管理單位「臺糖公司」依空氣污染防制法，重罰127萬5000元。「台南市政府應該請警方迅速找到放火者，而不是找臺糖當替死鬼，127萬對臺糖而言，只是九牛一毛。」台南市議員林燕祝說，昨晚就有義消告訴她，歸仁大火不是意外，而是有人蓄意縱火，因為現場有十多個火點，也就是說是很多處分頭燒。臺糖在全國的土地那麼多，資產龐大，罰127萬5000元，真的不算什麼。\""
   ]
  },
  {
   "cell_type": "markdown",
   "metadata": {},
   "source": [
    "## 替換特定的字串 - re.sub()\n",
    "\n",
    "語法: **re.sub(\"規則\", \"替換用\", \"文字\")**"
   ]
  },
  {
   "cell_type": "code",
   "execution_count": 14,
   "metadata": {},
   "outputs": [
    {
     "data": {
      "text/plain": [
       "'台南市歸仁區沙崙納骨塔附近昨晚雜草大火，臭煙味飄散到下風處發大財市，空氣品質變差，不僅發大財居民不滿，就連發大財市長陳其邁也要台南市長黃偉哲出來面對。台南市環保局為了平息眾怒，今天以土地管理不善為由，對土地管理單位「臺糖公司」依空氣污染防制法，重罰127萬5000元。「台南市政府應該請警方迅速找到放火者，而不是找臺糖當替死鬼，127萬對臺糖而言，只是九牛一毛。」台南市議員林燕祝說，昨晚就有義消告訴她，歸仁大火不是意外，而是有人蓄意縱火，因為現場有十多個火點，也就是說是很多處分頭燒。臺糖在全國的土地那麼多，資產龐大，罰127萬5000元，真的不算什麼。'"
      ]
     },
     "execution_count": 14,
     "metadata": {},
     "output_type": "execute_result"
    }
   ],
   "source": [
    "re.sub(\"高雄\", \"發大財\", question)"
   ]
  },
  {
   "cell_type": "code",
   "execution_count": 15,
   "metadata": {},
   "outputs": [
    {
     "data": {
      "text/plain": [
       "'發大財歸仁區沙崙納骨塔附近昨晚雜草大火，臭煙味飄散到下風處發大財，空氣品質變差，不僅高雄居民不滿，就連發大財長陳其邁也要發大財長黃偉哲出來面對。發大財環保局為了平息眾怒，今天以土地管理不善為由，對土地管理單位「臺糖公司」依空氣污染防制法，重罰127萬5000元。「發大財政府應該請警方迅速找到放火者，而不是找臺糖當替死鬼，127萬對臺糖而言，只是九牛一毛。」發大財議員林燕祝說，昨晚就有義消告訴她，歸仁大火不是意外，而是有人蓄意縱火，因為現場有十多個火點，也就是說是很多處分頭燒。臺糖在全國的土地那麼多，資產龐大，罰127萬5000元，真的不算什麼。'"
      ]
     },
     "execution_count": 15,
     "metadata": {},
     "output_type": "execute_result"
    }
   ],
   "source": [
    "re.sub(\".{2}市\", \"發大財\", question)"
   ]
  },
  {
   "cell_type": "markdown",
   "metadata": {},
   "source": [
    "## 小練習\n",
    "\n",
    "請將文章中的所有英文字母移除 (提示：移除代表[替換用]的欄位放置空字串`\"\"`，所有英文字母可以透過`[a-zA-Z]`表示)"
   ]
  },
  {
   "cell_type": "code",
   "execution_count": 18,
   "metadata": {},
   "outputs": [],
   "source": [
    "question = \"台南市歸仁區沙崙納骨塔附近昨晚ddd雜草大火，臭煙味飄散到下風處高雄市dfa，空氣品質變差，不僅高雄居民不滿，就連高eqrqrert雄市長陳其邁也要台南市長黃偉哲出來面對。台南市環保局為了平息眾怒，今天以土地管理不善為由，對土地管理單位「臺糖公司」依空氣污adfjqerjq;染防制法，重罰127萬5000元。「台南市政府應該請adfiaqwrjweio警方迅速找到放火者，而不是找臺糖當替死鬼，127萬對臺糖而言，只是九牛一毛。」台南市議員林燕祝說，昨da晚就有義消告訴12312她，歸仁大火不asdf是意外，而是有人蓄afwqerf意縱火，因為現場有十多個火點，也就是說是很多處分頭燒。臺糖在全國的土地那麼多，資產龐大，罰127萬5000元，真的不算什麼。\""
   ]
  },
  {
   "cell_type": "code",
   "execution_count": 19,
   "metadata": {},
   "outputs": [
    {
     "name": "stdout",
     "output_type": "stream",
     "text": [
      "台南市歸仁區沙崙納骨塔附近昨晚ddd雜草大火，臭煙味飄散到下風處高雄市dfa，空氣品質變差，不僅高雄居民不滿，就連高eqrqrert雄市長陳其邁也要台南市長黃偉哲出來面對。台南市環保局為了平息眾怒，今天以土地管理不善為由，對土地管理單位「臺糖公司」依空氣污adfjqerjq;染防制法，重罰127萬5000元。「台南市政府應該請adfiaqwrjweio警方迅速找到放火者，而不是找臺糖當替死鬼，127萬對臺糖而言，只是九牛一毛。」台南市議員林燕祝說，昨da晚就有義消告訴12312她，歸仁大火不asdf是意外，而是有人蓄afwqerf意縱火，因為現場有十多個火點，也就是說是很多處分頭燒。臺糖在全國的土地那麼多，資產龐大，罰127萬5000元，真的不算什麼。\n"
     ]
    }
   ],
   "source": [
    "print(question)"
   ]
  },
  {
   "cell_type": "code",
   "execution_count": 21,
   "metadata": {},
   "outputs": [
    {
     "data": {
      "text/plain": [
       "'台南市歸仁區沙崙納骨塔附近昨晚雜草大火，臭煙味飄散到下風處高雄市，空氣品質變差，不僅高雄居民不滿，就連高雄市長陳其邁也要台南市長黃偉哲出來面對。台南市環保局為了平息眾怒，今天以土地管理不善為由，對土地管理單位「臺糖公司」依空氣污;染防制法，重罰127萬5000元。「台南市政府應該請警方迅速找到放火者，而不是找臺糖當替死鬼，127萬對臺糖而言，只是九牛一毛。」台南市議員林燕祝說，昨晚就有義消告訴12312她，歸仁大火不是意外，而是有人蓄意縱火，因為現場有十多個火點，也就是說是很多處分頭燒。臺糖在全國的土地那麼多，資產龐大，罰127萬5000元，真的不算什麼。'"
      ]
     },
     "execution_count": 21,
     "metadata": {},
     "output_type": "execute_result"
    }
   ],
   "source": [
    "re.sub(\"[a-z]*\",\"\",question)"
   ]
  }
 ],
 "metadata": {
  "kernelspec": {
   "display_name": "crawler",
   "language": "python",
   "name": "crawler"
  },
  "language_info": {
   "codemirror_mode": {
    "name": "ipython",
    "version": 3
   },
   "file_extension": ".py",
   "mimetype": "text/x-python",
   "name": "python",
   "nbconvert_exporter": "python",
   "pygments_lexer": "ipython3",
   "version": "3.7.6"
  }
 },
 "nbformat": 4,
 "nbformat_minor": 4
}
