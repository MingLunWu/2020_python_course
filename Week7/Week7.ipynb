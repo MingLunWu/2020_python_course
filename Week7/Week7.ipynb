{
 "cells": [
  {
   "cell_type": "markdown",
   "metadata": {},
   "source": [
    "# 2020 網研社 - Python Week 7\n",
    "\n",
    "[上週教材 - 2020 網研社 - Python Week6](https://github.com/MingLunWu/2020_python_course/blob/master/Week6/Week6.ipynb)"
   ]
  },
  {
   "cell_type": "markdown",
   "metadata": {},
   "source": [
    "# 本週主題 ： 爬蟲入門\n",
    "\n",
    ">網路爬蟲（英語：web crawler），也叫網路蜘蛛（spider），是一種用來自動瀏覽全球資訊網的網路機器人。其目的一般為編纂網路索引。\n",
    "> [維基百科<網路爬蟲>](https://zh.wikipedia.org/wiki/網路爬蟲)\n",
    "\n",
    "簡單的來說：\n",
    "> 網路爬蟲是可以自動化替你蒐集網頁上資訊的程式\n",
    "\n",
    "可能的使用場景：\n",
    "+ 你在一間行銷公司上班，老闆希望你到購物網站上把競爭商品的資訊都記錄下來。\n",
    "+ 你是政治所的學生，需要探討在大選前各大報章雜誌的政黨色彩。\n",
    "+ 你要升上大三了，準備要到外面找房子...\n",
    "\n",
    "本週我們將會介紹基本的爬蟲知識，讓大家試著做出第一支爬蟲程式！**爬取中山大學周邊有關的租屋貼文**\n",
    "\n",
    "我們會使用到的套件有兩項：\n",
    "1. **requests**\n",
    "2. **BeautifulSoup**"
   ]
  },
  {
   "cell_type": "code",
   "execution_count": 44,
   "metadata": {},
   "outputs": [],
   "source": [
    "import requests\n",
    "from bs4 import BeautifulSoup"
   ]
  },
  {
   "cell_type": "markdown",
   "metadata": {},
   "source": [
    "## 認識網路基礎 - Request \n",
    "![img](https://miro.medium.com/max/633/1*VGO2Stzs2rzpEDX7aHlkrQ.png)\n",
    "\n",
    "你實際上看到的網頁、動畫，都是由**Server**回傳的資料，經過**瀏覽器**解析後呈現出來的！\n",
    "\n",
    "你可以透過「右鍵」-> 「檢視網頁原始碼」得到原始資料。\n",
    "\n",
    "## HTML 快速入門 \n",
    "\n",
    "使用「檢視網頁原始碼」所取得的程式碼，大部分都是屬於HTML(HyperText Markup Language)，建立網頁的標準標記語言\n",
    "\n",
    "HTML的大原則 : **各司其職，有始有終**\n",
    "\n",
    "請參閱: [[網頁設計]教學: HTML入門教學 | Michael Chen 的技術文件](https://michaelchen.tech/web-programming/html-primer/)"
   ]
  },
  {
   "cell_type": "markdown",
   "metadata": {},
   "source": [
    "---\n",
    "# 使用 requests 套件模擬 Request\n",
    "\n",
    "使用 `requests` 套件模擬 Request 造訪網站，並且取得伺服器端的回應"
   ]
  },
  {
   "cell_type": "code",
   "execution_count": 15,
   "metadata": {},
   "outputs": [],
   "source": [
    "url = \"https://www.ptt.cc/bbs/NSYSU/index1117.html\" # 以PTT的中山大學版作為試驗\n",
    "r = requests.get(url) # 使用 request.get(<網址>) 來造訪網站"
   ]
  },
  {
   "cell_type": "code",
   "execution_count": null,
   "metadata": {},
   "outputs": [],
   "source": [
    "print(r.text) # 使用r.text可以印出取得的原始碼"
   ]
  },
  {
   "cell_type": "markdown",
   "metadata": {},
   "source": [
    "取得html後，為了更快速的篩選出我們要的資訊，我們要使用第二個套件: `BeautifulSoup`"
   ]
  },
  {
   "cell_type": "code",
   "execution_count": 16,
   "metadata": {},
   "outputs": [],
   "source": [
    "soup = BeautifulSoup(r.text, \"html.parser\") # 將剛剛的原始碼送入BeautifulSoup"
   ]
  },
  {
   "cell_type": "code",
   "execution_count": null,
   "metadata": {},
   "outputs": [],
   "source": [
    "print(soup.prettify) # 透過soup.prettify 可以印出有結構、可讀性較高的html"
   ]
  },
  {
   "cell_type": "markdown",
   "metadata": {},
   "source": [
    "## Beautifulsoup 基本使用: \n",
    "```python\n",
    "soup.find(<標籤>, <特定class屬性>) # 尋找第一個擁有特定Class屬性的標籤\n",
    "soup.find(\"div\", \"title\") # 尋找第一個class為title的div標籤\n",
    "\n",
    "soup.find_all(<標籤>, <特定class屬性>) # 尋找所有擁有特定Class屬性的標籤 (以List的形式回傳)\n",
    "soup.find_all(\"div\", \"title\") # 尋找所有class為title的div標籤\n",
    "\n",
    "soup.<標籤> #取得特定標籤\n",
    "soup.<標籤>.text #取得特定標籤內的文字\n",
    "soup.<標籤>[<屬性名稱>] # 取得特定標籤內的屬性\n",
    "```"
   ]
  },
  {
   "cell_type": "code",
   "execution_count": 49,
   "metadata": {},
   "outputs": [
    {
     "data": {
      "text/plain": [
       "<div class=\"title\">\n",
       "<a href=\"/bbs/NSYSU/M.1595402685.A.AC3.html\">[租屋] 鼓山近渡船頭 (套)雅房出租</a>\n",
       "</div>"
      ]
     },
     "execution_count": 49,
     "metadata": {},
     "output_type": "execute_result"
    }
   ],
   "source": [
    "soup.find(\"div\", \"title\")"
   ]
  },
  {
   "cell_type": "code",
   "execution_count": 50,
   "metadata": {},
   "outputs": [
    {
     "data": {
      "text/plain": [
       "[<div class=\"title\">\n",
       " <a href=\"/bbs/NSYSU/M.1595402685.A.AC3.html\">[租屋] 鼓山近渡船頭 (套)雅房出租</a>\n",
       " </div>,\n",
       " <div class=\"title\">\n",
       " <a href=\"/bbs/NSYSU/M.1595427948.A.DEB.html\">[新聞] 李眉蓁風波 校友號召連署籲校方撤銷學位</a>\n",
       " </div>,\n",
       " <div class=\"title\">\n",
       " <a href=\"/bbs/NSYSU/M.1595581369.A.E39.html\">[新聞] 中山大學首次決議出爐：確定論文高度相似</a>\n",
       " </div>,\n",
       " <div class=\"title\">\n",
       " <a href=\"/bbs/NSYSU/M.1595658965.A.AE8.html\">[新聞] 遭控影武者 中山大學校長嘆：太有想像力</a>\n",
       " </div>,\n",
       " <div class=\"title\">\n",
       " <a href=\"/bbs/NSYSU/M.1595723870.A.7CA.html\">[新聞] 李德維酸「焦糖條款」 中山大學校方回應</a>\n",
       " </div>,\n",
       " <div class=\"title\">\n",
       " \t\t\t\n",
       " \t\t\t\t(本文已被刪除) [FaySan7]\n",
       " \t\t\t\n",
       " \t\t\t</div>,\n",
       " <div class=\"title\">\n",
       " <a href=\"/bbs/NSYSU/M.1596884809.A.E5A.html\">[徵屋] 近捷運站套房</a>\n",
       " </div>,\n",
       " <div class=\"title\">\n",
       " <a href=\"/bbs/NSYSU/M.1597936362.A.6D7.html\">[新聞] 李眉蓁遭撤銷學位後 中山大學校長首度回應</a>\n",
       " </div>,\n",
       " <div class=\"title\">\n",
       " <a href=\"/bbs/NSYSU/M.1598453841.A.A41.html\">[租屋] 近隧道口3500元優質小套房（含水電）</a>\n",
       " </div>,\n",
       " <div class=\"title\">\n",
       " <a href=\"/bbs/NSYSU/M.1598514020.A.F2C.html\">[租屋] 鼓山近愛河畔【全新”電梯”套房出租】</a>\n",
       " </div>,\n",
       " <div class=\"title\">\n",
       " <a href=\"/bbs/NSYSU/M.1598950885.A.705.html\">[廣告] 著作權100問線上答題抽獎活動</a>\n",
       " </div>,\n",
       " <div class=\"title\">\n",
       " <a href=\"/bbs/NSYSU/M.1599642241.A.B97.html\">[租屋] 【鼓山近渡船頭 (套)雅房出租】</a>\n",
       " </div>,\n",
       " <div class=\"title\">\n",
       " <a href=\"/bbs/NSYSU/M.1600229104.A.714.html\">[租屋] 近火車站愛河【豪華”電梯”套房出租】</a>\n",
       " </div>,\n",
       " <div class=\"title\">\n",
       " <a href=\"/bbs/NSYSU/M.1601016495.A.B1A.html\">[租屋] 近火車站愛河【豪華”電梯”套房出租】</a>\n",
       " </div>,\n",
       " <div class=\"title\">\n",
       " <a href=\"/bbs/NSYSU/M.1601881805.A.3ED.html\">[租屋] 鼓山近愛河畔【全新”電梯”套房出租】</a>\n",
       " </div>,\n",
       " <div class=\"title\">\n",
       " <a href=\"/bbs/NSYSU/M.1602473837.A.3D0.html\">[租屋] 【鼓山近渡船頭 (套)雅房出租】</a>\n",
       " </div>,\n",
       " <div class=\"title\">\n",
       " <a href=\"/bbs/NSYSU/M.1604893321.A.772.html\">[廣告] 國家早鳥月</a>\n",
       " </div>,\n",
       " <div class=\"title\">\n",
       " <a href=\"/bbs/NSYSU/M.1605684857.A.EBF.html\">[租屋] 鼓山近愛河畔【全新”電梯”套房出租】</a>\n",
       " </div>,\n",
       " <div class=\"title\">\n",
       " <a href=\"/bbs/NSYSU/M.1605786329.A.1F0.html\">[租屋] 鼓山三路公寓四樓出租 可短租</a>\n",
       " </div>,\n",
       " <div class=\"title\">\n",
       " <a href=\"/bbs/NSYSU/M.1605802236.A.383.html\">[租屋] 出租: 全新獨立套房近 中山大學</a>\n",
       " </div>]"
      ]
     },
     "execution_count": 50,
     "metadata": {},
     "output_type": "execute_result"
    }
   ],
   "source": [
    "soup.find_all(\"div\",\"title\")"
   ]
  },
  {
   "cell_type": "code",
   "execution_count": 57,
   "metadata": {},
   "outputs": [
    {
     "data": {
      "text/plain": [
       "<div class=\"r-ent\">\n",
       "<div class=\"nrec\"></div>\n",
       "<div class=\"title\">\n",
       "<a href=\"/bbs/NSYSU/M.1595402685.A.AC3.html\">[租屋] 鼓山近渡船頭 (套)雅房出租</a>\n",
       "</div>\n",
       "<div class=\"meta\">\n",
       "<div class=\"author\">mime</div>\n",
       "<div class=\"article-menu\">\n",
       "<div class=\"trigger\">⋯</div>\n",
       "<div class=\"dropdown\">\n",
       "<div class=\"item\"><a href=\"/bbs/NSYSU/search?q=thread%3A%5B%E7%A7%9F%E5%B1%8B%5D+%E9%BC%93%E5%B1%B1%E8%BF%91%E6%B8%A1%E8%88%B9%E9%A0%AD+%28%E5%A5%97%29%E9%9B%85%E6%88%BF%E5%87%BA%E7%A7%9F\">搜尋同標題文章</a></div>\n",
       "<div class=\"item\"><a href=\"/bbs/NSYSU/search?q=author%3Amime\">搜尋看板內 mime 的文章</a></div>\n",
       "</div>\n",
       "</div>\n",
       "<div class=\"date\"> 7/22</div>\n",
       "<div class=\"mark\"></div>\n",
       "</div>\n",
       "</div>"
      ]
     },
     "execution_count": 57,
     "metadata": {},
     "output_type": "execute_result"
    }
   ],
   "source": [
    "soup.find(\"div\",\"r-ent\")"
   ]
  },
  {
   "cell_type": "code",
   "execution_count": 59,
   "metadata": {},
   "outputs": [
    {
     "data": {
      "text/plain": [
       "<div class=\"title\">\n",
       "<a href=\"/bbs/NSYSU/M.1595402685.A.AC3.html\">[租屋] 鼓山近渡船頭 (套)雅房出租</a>\n",
       "</div>"
      ]
     },
     "execution_count": 59,
     "metadata": {},
     "output_type": "execute_result"
    }
   ],
   "source": [
    "soup.find(\"div\",\"r-ent\").find(\"div\",\"title\")"
   ]
  },
  {
   "cell_type": "code",
   "execution_count": 60,
   "metadata": {},
   "outputs": [
    {
     "data": {
      "text/plain": [
       "<a href=\"/bbs/NSYSU/M.1595402685.A.AC3.html\">[租屋] 鼓山近渡船頭 (套)雅房出租</a>"
      ]
     },
     "execution_count": 60,
     "metadata": {},
     "output_type": "execute_result"
    }
   ],
   "source": [
    "soup.find(\"div\",\"r-ent\").find(\"div\",\"title\").a"
   ]
  },
  {
   "cell_type": "code",
   "execution_count": 61,
   "metadata": {},
   "outputs": [
    {
     "data": {
      "text/plain": [
       "'[租屋] 鼓山近渡船頭 (套)雅房出租'"
      ]
     },
     "execution_count": 61,
     "metadata": {},
     "output_type": "execute_result"
    }
   ],
   "source": [
    "soup.find(\"div\",\"r-ent\").find(\"div\",\"title\").a.text"
   ]
  },
  {
   "cell_type": "code",
   "execution_count": 56,
   "metadata": {},
   "outputs": [
    {
     "name": "stdout",
     "output_type": "stream",
     "text": [
      "[租屋] 鼓山近渡船頭 (套)雅房出租\n",
      "/bbs/NSYSU/M.1595402685.A.AC3.html\n",
      " 7/22\n",
      "[新聞] 李眉蓁風波 校友號召連署籲校方撤銷學位\n",
      "/bbs/NSYSU/M.1595427948.A.DEB.html\n",
      " 7/22\n",
      "[新聞] 中山大學首次決議出爐：確定論文高度相似\n",
      "/bbs/NSYSU/M.1595581369.A.E39.html\n",
      " 7/24\n",
      "[新聞] 遭控影武者 中山大學校長嘆：太有想像力\n",
      "/bbs/NSYSU/M.1595658965.A.AE8.html\n",
      " 7/25\n",
      "[新聞] 李德維酸「焦糖條款」 中山大學校方回應\n",
      "/bbs/NSYSU/M.1595723870.A.7CA.html\n",
      " 7/26\n",
      "文章已被刪除\n",
      " 7/31\n",
      "[徵屋] 近捷運站套房\n",
      "/bbs/NSYSU/M.1596884809.A.E5A.html\n",
      " 8/08\n",
      "[新聞] 李眉蓁遭撤銷學位後 中山大學校長首度回應\n",
      "/bbs/NSYSU/M.1597936362.A.6D7.html\n",
      " 8/20\n",
      "[租屋] 近隧道口3500元優質小套房（含水電）\n",
      "/bbs/NSYSU/M.1598453841.A.A41.html\n",
      " 8/26\n",
      "[租屋] 鼓山近愛河畔【全新”電梯”套房出租】\n",
      "/bbs/NSYSU/M.1598514020.A.F2C.html\n",
      " 8/27\n",
      "[廣告] 著作權100問線上答題抽獎活動\n",
      "/bbs/NSYSU/M.1598950885.A.705.html\n",
      " 9/01\n",
      "[租屋] 【鼓山近渡船頭 (套)雅房出租】\n",
      "/bbs/NSYSU/M.1599642241.A.B97.html\n",
      " 9/09\n",
      "[租屋] 近火車站愛河【豪華”電梯”套房出租】\n",
      "/bbs/NSYSU/M.1600229104.A.714.html\n",
      " 9/16\n",
      "[租屋] 近火車站愛河【豪華”電梯”套房出租】\n",
      "/bbs/NSYSU/M.1601016495.A.B1A.html\n",
      " 9/25\n",
      "[租屋] 鼓山近愛河畔【全新”電梯”套房出租】\n",
      "/bbs/NSYSU/M.1601881805.A.3ED.html\n",
      "10/05\n",
      "[租屋] 【鼓山近渡船頭 (套)雅房出租】\n",
      "/bbs/NSYSU/M.1602473837.A.3D0.html\n",
      "10/12\n",
      "[廣告] 國家早鳥月\n",
      "/bbs/NSYSU/M.1604893321.A.772.html\n",
      "11/09\n",
      "[租屋] 鼓山近愛河畔【全新”電梯”套房出租】\n",
      "/bbs/NSYSU/M.1605684857.A.EBF.html\n",
      "11/18\n",
      "[租屋] 鼓山三路公寓四樓出租 可短租\n",
      "/bbs/NSYSU/M.1605786329.A.1F0.html\n",
      "11/19\n",
      "[租屋] 出租: 全新獨立套房近 中山大學\n",
      "/bbs/NSYSU/M.1605802236.A.383.html\n",
      "11/20\n"
     ]
    }
   ],
   "source": [
    "for i in soup.find_all(\"div\",\"r-ent\"):\n",
    "    # 印出標題\n",
    "    if i.find(\"div\",\"title\").a is None:\n",
    "        print(\"文章已被刪除\")\n",
    "    else:\n",
    "        print(i.find(\"div\",\"title\").a.text)\n",
    "        # 印出連結\n",
    "        print(i.find(\"div\",\"title\").a['href'])\n",
    "    # 印出日期\n",
    "    print(i.find(\"div\",\"date\").text)"
   ]
  },
  {
   "cell_type": "markdown",
   "metadata": {},
   "source": [
    "## 可以尋訪時加入條件\n",
    "\n",
    "我們在閱讀標題時，加入條件: `需要包含[租屋]`"
   ]
  },
  {
   "cell_type": "code",
   "execution_count": 63,
   "metadata": {},
   "outputs": [
    {
     "name": "stdout",
     "output_type": "stream",
     "text": [
      "[租屋] 鼓山近渡船頭 (套)雅房出租\n",
      "/bbs/NSYSU/M.1595402685.A.AC3.html\n",
      " 7/22\n",
      "文章已被刪除\n",
      "[租屋] 近隧道口3500元優質小套房（含水電）\n",
      "/bbs/NSYSU/M.1598453841.A.A41.html\n",
      " 8/26\n",
      "[租屋] 鼓山近愛河畔【全新”電梯”套房出租】\n",
      "/bbs/NSYSU/M.1598514020.A.F2C.html\n",
      " 8/27\n",
      "[租屋] 【鼓山近渡船頭 (套)雅房出租】\n",
      "/bbs/NSYSU/M.1599642241.A.B97.html\n",
      " 9/09\n",
      "[租屋] 近火車站愛河【豪華”電梯”套房出租】\n",
      "/bbs/NSYSU/M.1600229104.A.714.html\n",
      " 9/16\n",
      "[租屋] 近火車站愛河【豪華”電梯”套房出租】\n",
      "/bbs/NSYSU/M.1601016495.A.B1A.html\n",
      " 9/25\n",
      "[租屋] 鼓山近愛河畔【全新”電梯”套房出租】\n",
      "/bbs/NSYSU/M.1601881805.A.3ED.html\n",
      "10/05\n",
      "[租屋] 【鼓山近渡船頭 (套)雅房出租】\n",
      "/bbs/NSYSU/M.1602473837.A.3D0.html\n",
      "10/12\n",
      "[租屋] 鼓山近愛河畔【全新”電梯”套房出租】\n",
      "/bbs/NSYSU/M.1605684857.A.EBF.html\n",
      "11/18\n",
      "[租屋] 鼓山三路公寓四樓出租 可短租\n",
      "/bbs/NSYSU/M.1605786329.A.1F0.html\n",
      "11/19\n",
      "[租屋] 出租: 全新獨立套房近 中山大學\n",
      "/bbs/NSYSU/M.1605802236.A.383.html\n",
      "11/20\n"
     ]
    }
   ],
   "source": [
    "for i in soup.find_all(\"div\",\"r-ent\"):\n",
    "    # 印出標題\n",
    "    if i.find(\"div\",\"title\").a is None:\n",
    "        print(\"文章已被刪除\")\n",
    "    elif \"[租屋]\" in i.find(\"div\",\"title\").a.text:\n",
    "        print(i.find(\"div\",\"title\").a.text)\n",
    "        # 印出連結\n",
    "        print(i.find(\"div\",\"title\").a['href'])\n",
    "        # 印出日期\n",
    "        print(i.find(\"div\",\"date\").text)"
   ]
  },
  {
   "cell_type": "markdown",
   "metadata": {},
   "source": [
    "# 將資料寫為csv"
   ]
  },
  {
   "cell_type": "code",
   "execution_count": 64,
   "metadata": {},
   "outputs": [],
   "source": [
    "import pandas as pd"
   ]
  },
  {
   "cell_type": "code",
   "execution_count": 65,
   "metadata": {},
   "outputs": [],
   "source": [
    "title = list()\n",
    "url = list()\n",
    "date = list()"
   ]
  },
  {
   "cell_type": "code",
   "execution_count": 66,
   "metadata": {},
   "outputs": [
    {
     "name": "stdout",
     "output_type": "stream",
     "text": [
      "文章已被刪除\n"
     ]
    }
   ],
   "source": [
    "for i in soup.find_all(\"div\",\"r-ent\"):\n",
    "    # 印出標題\n",
    "    if i.find(\"div\",\"title\").a is None:\n",
    "        print(\"文章已被刪除\")\n",
    "    elif \"[租屋]\" in i.find(\"div\",\"title\").a.text:\n",
    "        # 儲存標題\n",
    "        title.append(i.find(\"div\",\"title\").a.text)\n",
    "        # 儲存連結\n",
    "        url.append(i.find(\"div\",\"title\").a['href'])\n",
    "        # 儲存日期\n",
    "        date.append(i.find(\"div\",\"date\").text)"
   ]
  },
  {
   "cell_type": "code",
   "execution_count": 72,
   "metadata": {},
   "outputs": [
    {
     "name": "stdout",
     "output_type": "stream",
     "text": [
      "['[租屋] 鼓山近渡船頭 (套)雅房出租',\n",
      " '[租屋] 近隧道口3500元優質小套房（含水電）',\n",
      " '[租屋] 鼓山近愛河畔【全新”電梯”套房出租】',\n",
      " '[租屋] 【鼓山近渡船頭 (套)雅房出租】',\n",
      " '[租屋] 近火車站愛河【豪華”電梯”套房出租】']\n",
      "['/bbs/NSYSU/M.1595402685.A.AC3.html',\n",
      " '/bbs/NSYSU/M.1598453841.A.A41.html',\n",
      " '/bbs/NSYSU/M.1598514020.A.F2C.html',\n",
      " '/bbs/NSYSU/M.1599642241.A.B97.html',\n",
      " '/bbs/NSYSU/M.1600229104.A.714.html']\n",
      "[' 7/22', ' 8/26', ' 8/27', ' 9/09', ' 9/16']\n"
     ]
    }
   ],
   "source": [
    "from pprint import pprint\n",
    "pprint(title[:5])\n",
    "pprint(url[:5])\n",
    "pprint(date[:5])"
   ]
  },
  {
   "cell_type": "code",
   "execution_count": 75,
   "metadata": {},
   "outputs": [
    {
     "data": {
      "text/html": [
       "<div>\n",
       "<style scoped>\n",
       "    .dataframe tbody tr th:only-of-type {\n",
       "        vertical-align: middle;\n",
       "    }\n",
       "\n",
       "    .dataframe tbody tr th {\n",
       "        vertical-align: top;\n",
       "    }\n",
       "\n",
       "    .dataframe thead th {\n",
       "        text-align: right;\n",
       "    }\n",
       "</style>\n",
       "<table border=\"1\" class=\"dataframe\">\n",
       "  <thead>\n",
       "    <tr style=\"text-align: right;\">\n",
       "      <th></th>\n",
       "      <th>title</th>\n",
       "      <th>date</th>\n",
       "      <th>url</th>\n",
       "    </tr>\n",
       "  </thead>\n",
       "  <tbody>\n",
       "    <tr>\n",
       "      <th>0</th>\n",
       "      <td>[租屋] 鼓山近渡船頭 (套)雅房出租</td>\n",
       "      <td>7/22</td>\n",
       "      <td>/bbs/NSYSU/M.1595402685.A.AC3.html</td>\n",
       "    </tr>\n",
       "    <tr>\n",
       "      <th>1</th>\n",
       "      <td>[租屋] 近隧道口3500元優質小套房（含水電）</td>\n",
       "      <td>8/26</td>\n",
       "      <td>/bbs/NSYSU/M.1598453841.A.A41.html</td>\n",
       "    </tr>\n",
       "    <tr>\n",
       "      <th>2</th>\n",
       "      <td>[租屋] 鼓山近愛河畔【全新”電梯”套房出租】</td>\n",
       "      <td>8/27</td>\n",
       "      <td>/bbs/NSYSU/M.1598514020.A.F2C.html</td>\n",
       "    </tr>\n",
       "    <tr>\n",
       "      <th>3</th>\n",
       "      <td>[租屋] 【鼓山近渡船頭 (套)雅房出租】</td>\n",
       "      <td>9/09</td>\n",
       "      <td>/bbs/NSYSU/M.1599642241.A.B97.html</td>\n",
       "    </tr>\n",
       "    <tr>\n",
       "      <th>4</th>\n",
       "      <td>[租屋] 近火車站愛河【豪華”電梯”套房出租】</td>\n",
       "      <td>9/16</td>\n",
       "      <td>/bbs/NSYSU/M.1600229104.A.714.html</td>\n",
       "    </tr>\n",
       "    <tr>\n",
       "      <th>5</th>\n",
       "      <td>[租屋] 近火車站愛河【豪華”電梯”套房出租】</td>\n",
       "      <td>9/25</td>\n",
       "      <td>/bbs/NSYSU/M.1601016495.A.B1A.html</td>\n",
       "    </tr>\n",
       "    <tr>\n",
       "      <th>6</th>\n",
       "      <td>[租屋] 鼓山近愛河畔【全新”電梯”套房出租】</td>\n",
       "      <td>10/05</td>\n",
       "      <td>/bbs/NSYSU/M.1601881805.A.3ED.html</td>\n",
       "    </tr>\n",
       "    <tr>\n",
       "      <th>7</th>\n",
       "      <td>[租屋] 【鼓山近渡船頭 (套)雅房出租】</td>\n",
       "      <td>10/12</td>\n",
       "      <td>/bbs/NSYSU/M.1602473837.A.3D0.html</td>\n",
       "    </tr>\n",
       "    <tr>\n",
       "      <th>8</th>\n",
       "      <td>[租屋] 鼓山近愛河畔【全新”電梯”套房出租】</td>\n",
       "      <td>11/18</td>\n",
       "      <td>/bbs/NSYSU/M.1605684857.A.EBF.html</td>\n",
       "    </tr>\n",
       "    <tr>\n",
       "      <th>9</th>\n",
       "      <td>[租屋] 鼓山三路公寓四樓出租 可短租</td>\n",
       "      <td>11/19</td>\n",
       "      <td>/bbs/NSYSU/M.1605786329.A.1F0.html</td>\n",
       "    </tr>\n",
       "    <tr>\n",
       "      <th>10</th>\n",
       "      <td>[租屋] 出租: 全新獨立套房近 中山大學</td>\n",
       "      <td>11/20</td>\n",
       "      <td>/bbs/NSYSU/M.1605802236.A.383.html</td>\n",
       "    </tr>\n",
       "  </tbody>\n",
       "</table>\n",
       "</div>"
      ],
      "text/plain": [
       "                       title   date                                 url\n",
       "0        [租屋] 鼓山近渡船頭 (套)雅房出租   7/22  /bbs/NSYSU/M.1595402685.A.AC3.html\n",
       "1   [租屋] 近隧道口3500元優質小套房（含水電）   8/26  /bbs/NSYSU/M.1598453841.A.A41.html\n",
       "2    [租屋] 鼓山近愛河畔【全新”電梯”套房出租】   8/27  /bbs/NSYSU/M.1598514020.A.F2C.html\n",
       "3      [租屋] 【鼓山近渡船頭 (套)雅房出租】   9/09  /bbs/NSYSU/M.1599642241.A.B97.html\n",
       "4    [租屋] 近火車站愛河【豪華”電梯”套房出租】   9/16  /bbs/NSYSU/M.1600229104.A.714.html\n",
       "5    [租屋] 近火車站愛河【豪華”電梯”套房出租】   9/25  /bbs/NSYSU/M.1601016495.A.B1A.html\n",
       "6    [租屋] 鼓山近愛河畔【全新”電梯”套房出租】  10/05  /bbs/NSYSU/M.1601881805.A.3ED.html\n",
       "7      [租屋] 【鼓山近渡船頭 (套)雅房出租】  10/12  /bbs/NSYSU/M.1602473837.A.3D0.html\n",
       "8    [租屋] 鼓山近愛河畔【全新”電梯”套房出租】  11/18  /bbs/NSYSU/M.1605684857.A.EBF.html\n",
       "9        [租屋] 鼓山三路公寓四樓出租 可短租  11/19  /bbs/NSYSU/M.1605786329.A.1F0.html\n",
       "10     [租屋] 出租: 全新獨立套房近 中山大學  11/20  /bbs/NSYSU/M.1605802236.A.383.html"
      ]
     },
     "execution_count": 75,
     "metadata": {},
     "output_type": "execute_result"
    }
   ],
   "source": [
    "pd.DataFrame({\"title\":title, \"date\":date, \"url\":url})"
   ]
  },
  {
   "cell_type": "markdown",
   "metadata": {},
   "source": [
    "# 小練習\n",
    "\n",
    "請大家試著去中山大學版 (https://www.ptt.cc/bbs/NSYSU/index1113.html)\n",
    "\n",
    "嘗試抓取標題包含「徵才」及「廣告」的文章"
   ]
  },
  {
   "cell_type": "code",
   "execution_count": 77,
   "metadata": {},
   "outputs": [],
   "source": [
    "# Your Code Here!\n",
    "#\n",
    "#\n",
    "#"
   ]
  },
  {
   "cell_type": "markdown",
   "metadata": {},
   "source": [
    "## 進階小練習\n",
    "\n",
    "其實ptt的網址相當單純(https://www.ptt.cc/bbs/NSYSU/index_編號_.html)\n",
    "\n",
    "請試著用迴圈的方式，爬不止一個頁面的文章呢？"
   ]
  },
  {
   "cell_type": "code",
   "execution_count": 78,
   "metadata": {},
   "outputs": [],
   "source": [
    "# Your Code Here!\n",
    "#\n",
    "#\n",
    "#"
   ]
  }
 ],
 "metadata": {
  "kernelspec": {
   "display_name": "crawler",
   "language": "python",
   "name": "crawler"
  },
  "language_info": {
   "codemirror_mode": {
    "name": "ipython",
    "version": 3
   },
   "file_extension": ".py",
   "mimetype": "text/x-python",
   "name": "python",
   "nbconvert_exporter": "python",
   "pygments_lexer": "ipython3",
   "version": "3.7.6"
  }
 },
 "nbformat": 4,
 "nbformat_minor": 4
}
