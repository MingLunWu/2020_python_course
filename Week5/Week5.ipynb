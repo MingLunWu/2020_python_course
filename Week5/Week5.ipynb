{
 "cells": [
  {
   "cell_type": "markdown",
   "metadata": {},
   "source": [
    "# 2020 網研社 - Python Week 5\n",
    "\n",
    "[上週教材 - 2020 網研社 - Python Week4](https://github.com/MingLunWu/2020_python_course/blob/master/Week4.ipynb)"
   ]
  },
  {
   "cell_type": "markdown",
   "metadata": {},
   "source": [
    "# 套件 (Package)\n",
    "使用Python撰寫程式時，使用套件能夠加速開發的效率\n",
    "\n",
    "套件可以分為幾種類型:\n",
    "\n",
    "## 1.自己定義的套件: \n",
    "在`Week5`的資料夾中，有一個資料夾`my_package`，其中有一個`get_data.py`的檔案，請打開並查看裡面的內容:\n",
    "\n",
    "```python\n",
    "def get_sample_data():\n",
    "# 此函式的目的為產生範例字典\n",
    "    income = {\n",
    "        \"Monday\":[20,10,30,40,20],\n",
    "        \"Tuesday\":[50,60,20,10,100],\n",
    "        \"Wednesday\":[20,70,70,100,20],\n",
    "        \"Thursday\":[80,0,20,20,50],\n",
    "        \"Friday\":[100,20,80,20,10]\n",
    "    }\n",
    "    return income\n",
    "```\n",
    "\n",
    "使用套件前，需要使用 `import` 語法來 `載入套件`:\n",
    "```python\n",
    "from my_package.get_data import get_sample_data\n",
    "# from <資料夾>.<檔案名稱> import <檔案中的函式名稱>\n",
    "```"
   ]
  },
  {
   "cell_type": "code",
   "execution_count": 2,
   "metadata": {},
   "outputs": [],
   "source": [
    "from my_package.get_data import get_sample_data"
   ]
  },
  {
   "cell_type": "code",
   "execution_count": 3,
   "metadata": {},
   "outputs": [
    {
     "data": {
      "text/plain": [
       "{'Monday': [20, 10, 30, 40, 20],\n",
       " 'Tuesday': [50, 60, 20, 10, 100],\n",
       " 'Wednesday': [20, 70, 70, 100, 20],\n",
       " 'Thursday': [80, 0, 20, 20, 50],\n",
       " 'Friday': [100, 20, 80, 20, 10]}"
      ]
     },
     "execution_count": 3,
     "metadata": {},
     "output_type": "execute_result"
    }
   ],
   "source": [
    "get_sample_data()"
   ]
  },
  {
   "cell_type": "markdown",
   "metadata": {},
   "source": [
    "---\n",
    "撰寫Python時，可以將函式撰寫在獨立的檔案中(副檔名:`.py`)\n",
    "\n",
    "需要使用時，在Python Notebook中載入即可使用。\n",
    "\n",
    "將函式存放於獨立的檔案，有兩個好處: \n",
    "1. 主要執行的程式碼較精簡，只包含必要的程式碼，其餘程式碼存放於檔案中.\n",
    "2. 當函式的數量龐大時，可以分門別類的將程式碼存放於不同的檔案，例如: \n",
    "    + 計算類型函式: calculate.py\n",
    "    + 產生資料函式: data.py\n",
    "    + 繪圖相關函式: draw.py\n",
    "    \n",
    "**常見錯誤: 自定義的函式名稱，不可以跟Python內建的函式重疊！例如:print, for, while...**\n",
    "\n",
    "**在上述的範例中，`my_package`就是一個`套件`，其中包含了`函式`可以載入並使用**\n",
    "\n",
    "---\n",
    "## 小練習: \n",
    "請打開 `my_package` 資料夾中的 `calculate.py`，完成 `calculate_BMI` 函式\n",
    "\n",
    "完成後請嘗試在此載入套件並且呼叫 `calculate_BMI` 函式"
   ]
  },
  {
   "cell_type": "code",
   "execution_count": 5,
   "metadata": {},
   "outputs": [],
   "source": [
    "# Your Time!\n",
    "# \n",
    "#\n",
    "#"
   ]
  },
  {
   "cell_type": "markdown",
   "metadata": {},
   "source": [
    "## 2. Python內建套件、開源套件\n",
    "除了自己編寫的套件外，Python有許多內建的套件可供使用\n",
    "\n",
    "先介紹幾個常用的套件: \n",
    "+ `sys` : system，可以透過這個套件來取得一些系統資訊\n",
    "+ `os` : Operating System，可以透過這個套件來對檔案進行操作"
   ]
  },
  {
   "cell_type": "code",
   "execution_count": 7,
   "metadata": {},
   "outputs": [],
   "source": [
    "import sys\n",
    "import os"
   ]
  },
  {
   "cell_type": "markdown",
   "metadata": {},
   "source": [
    "使用`sys.path`會取得一個環境變數的串列。\n",
    "\n",
    "使用 `import <套件>`語法時，會依序至串列中的這些位置尋找套件"
   ]
  },
  {
   "cell_type": "code",
   "execution_count": 10,
   "metadata": {},
   "outputs": [
    {
     "data": {
      "text/plain": [
       "['/Users/minglunwu/Documents/2020_python_course/Week5',\n",
       " '/Users/minglunwu/anaconda/envs/tf2/lib/python37.zip',\n",
       " '/Users/minglunwu/anaconda/envs/tf2/lib/python3.7',\n",
       " '/Users/minglunwu/anaconda/envs/tf2/lib/python3.7/lib-dynload',\n",
       " '',\n",
       " '/Users/minglunwu/anaconda/envs/tf2/lib/python3.7/site-packages',\n",
       " '/Users/minglunwu/anaconda/envs/tf2/lib/python3.7/site-packages/IPython/extensions',\n",
       " '/Users/minglunwu/.ipython']"
      ]
     },
     "execution_count": 10,
     "metadata": {},
     "output_type": "execute_result"
    }
   ],
   "source": [
    "sys.path"
   ]
  },
  {
   "cell_type": "markdown",
   "metadata": {},
   "source": [
    "使用`os.makedirs(<位置>)` 可以創建資料夾"
   ]
  },
  {
   "cell_type": "code",
   "execution_count": 11,
   "metadata": {},
   "outputs": [],
   "source": [
    "os.makedirs(\"./create_dir\")"
   ]
  },
  {
   "cell_type": "markdown",
   "metadata": {},
   "source": [
    "## 絕對路徑 (Absolute Path) 及 相對路徑 (Related Path)\n",
    "\n",
    "在Python中設定路徑時，可以區分為絕對路徑和相對路徑兩種: \n",
    "\n",
    "### 絕對路徑\n",
    "\n",
    "絕對路徑指的是從電腦的最核心檔案夾開始，一路指定檔案的位置: \n",
    "+ Mac OS : /Users/<使用者名稱>/\n",
    "+ Windows: C:/Users/<使用者名稱>\n",
    "\n",
    "可以透過`os`套件的 `os.listdir(<路徑>)`來顯示特定路徑的檔案清單"
   ]
  },
  {
   "cell_type": "code",
   "execution_count": 13,
   "metadata": {},
   "outputs": [
    {
     "data": {
      "text/plain": [
       "['Week4.ipynb',\n",
       " 'Week2.ipynb',\n",
       " 'Week3.ipynb',\n",
       " 'Week1.ipynb',\n",
       " 'README.md',\n",
       " '.gitignore',\n",
       " 'Week5',\n",
       " '.ipynb_checkpoints',\n",
       " '.git']"
      ]
     },
     "execution_count": 13,
     "metadata": {},
     "output_type": "execute_result"
    }
   ],
   "source": [
    "os.listdir(\"/Users/minglunwu/Documents/2020_python_course/\")"
   ]
  },
  {
   "cell_type": "markdown",
   "metadata": {},
   "source": [
    "---\n",
    "## 小練習\n",
    "請嘗試使用 `os.listdir(絕對路徑)` 列出當前資料夾的檔案清單 "
   ]
  },
  {
   "cell_type": "code",
   "execution_count": null,
   "metadata": {},
   "outputs": [],
   "source": [
    "# Your Time!\n",
    "#\n",
    "#\n",
    "#"
   ]
  },
  {
   "cell_type": "markdown",
   "metadata": {},
   "source": [
    "### 相對路徑\n",
    "\n",
    "相對路徑則是以**當前檔案的位置**當作基準點! 使用下列符號來代表移動位置: \n",
    "+ `.` : 現在的路徑\n",
    "+ `..`: 上一層資料夾\n",
    "\n",
    "![img](https://automatetheboringstuff.com/images/000027.jpg)"
   ]
  },
  {
   "cell_type": "code",
   "execution_count": 16,
   "metadata": {},
   "outputs": [
    {
     "data": {
      "text/plain": [
       "['calculate.py', '__pycache__', 'get_data.py', '.ipynb_checkpoints']"
      ]
     },
     "execution_count": 16,
     "metadata": {},
     "output_type": "execute_result"
    }
   ],
   "source": [
    "os.listdir(\"./my_package/\")"
   ]
  },
  {
   "cell_type": "code",
   "execution_count": 17,
   "metadata": {},
   "outputs": [
    {
     "data": {
      "text/plain": [
       "['Week4.ipynb',\n",
       " 'Week2.ipynb',\n",
       " 'Week3.ipynb',\n",
       " 'Week1.ipynb',\n",
       " 'README.md',\n",
       " '.gitignore',\n",
       " 'Week5',\n",
       " '.ipynb_checkpoints',\n",
       " '.git']"
      ]
     },
     "execution_count": 17,
     "metadata": {},
     "output_type": "execute_result"
    }
   ],
   "source": [
    "os.listdir(\"../\")"
   ]
  },
  {
   "cell_type": "markdown",
   "metadata": {},
   "source": [
    "# CSV 套件"
   ]
  },
  {
   "cell_type": "code",
   "execution_count": null,
   "metadata": {},
   "outputs": [],
   "source": []
  }
 ],
 "metadata": {
  "kernelspec": {
   "display_name": "Python(tf2)",
   "language": "python",
   "name": "tf2"
  },
  "language_info": {
   "codemirror_mode": {
    "name": "ipython",
    "version": 3
   },
   "file_extension": ".py",
   "mimetype": "text/x-python",
   "name": "python",
   "nbconvert_exporter": "python",
   "pygments_lexer": "ipython3",
   "version": "3.7.6"
  }
 },
 "nbformat": 4,
 "nbformat_minor": 4
}
