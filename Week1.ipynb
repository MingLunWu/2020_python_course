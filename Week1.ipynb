{
 "cells": [
  {
   "cell_type": "markdown",
   "metadata": {},
   "source": [
    "# 目錄"
   ]
  },
  {
   "cell_type": "markdown",
   "metadata": {},
   "source": [
    "## 變數與常數 - 儲存及取用資訊\n",
    "\n",
    "使用變數以及常數來記錄特定的值，並且在程式執行過程中進行操作，兩者的概念是相近的，但是: \n",
    "+ 變數: 在程式執行過程中值**會**改變，通常用小寫命名.\n",
    "+ 常數: 在程式執行過程中值**不會**改變，通常用全大寫命名.\n",
    "\n",
    "在命名變數/常數時請注意: \n",
    "1. 變數名稱不能包含空格: \n",
    "```python\n",
    "my BMI = 24  # 此為錯誤宣告\n",
    "my_BMI = 24 # 正確宣告\n",
    "myBMI = 24  # 正確宣告\n",
    "```\n",
    "2. Python之中有一些**保留字**，這些保留字在Python中有自己的意義，請盡量避免取相同的變數名稱，例如:\n",
    "    + if\n",
    "    + for \n",
    "    + len\n",
    "    + class\n",
    "    + def "
   ]
  },
  {
   "cell_type": "markdown",
   "metadata": {},
   "source": [
    "### 設定變數 - 使用 \"=\":\n",
    "將 `apple_price`變數設定為60.\n",
    "```python\n",
    "apple_price = 60\n",
    "```\n",
    "\n",
    "將 `ZERO`常數設定為0.\n",
    "```python\n",
    "ZERO = 0\n",
    "```"
   ]
  },
  {
   "cell_type": "code",
   "execution_count": 2,
   "metadata": {
    "collapsed": true
   },
   "outputs": [],
   "source": [
    "apple_price = 60\n",
    "ZERO = 0"
   ]
  },
  {
   "cell_type": "markdown",
   "metadata": {},
   "source": [
    "## 變數(常數)的資料型態\n",
    "在Python中變數有幾種不同的資料型態，分別有不同的特性: \n",
    "1. **int** (integer): 整數，例如 0, 1, 2, 3\n",
    "\n",
    "2. **float**: 浮點數，也就是包含小數點的數值，例如 0.23, 3.14, -2.2\n",
    "\n",
    "3. **string** : 字串，透過 `'` 或是 `\"` 所包含起來的文字資料，例如 \"test\", 'Hello World'"
   ]
  },
  {
   "cell_type": "markdown",
   "metadata": {},
   "source": [
    "### 確認變數的資料型態 - type( )\n",
    "讓我們先來定義幾個示範用的變數，分別是 int, float, string 的資料型態\n",
    "\n",
    "```python\n",
    "type(<變數>)\n",
    "```"
   ]
  },
  {
   "cell_type": "code",
   "execution_count": 5,
   "metadata": {
    "collapsed": true
   },
   "outputs": [],
   "source": [
    "this_is_int = 5\n",
    "this_is_float = -2.23\n",
    "this_is_string = \"test string\""
   ]
  },
  {
   "cell_type": "markdown",
   "metadata": {},
   "source": [
    "使用 type( ) 可以取得這些變數的型態"
   ]
  },
  {
   "cell_type": "code",
   "execution_count": 6,
   "metadata": {},
   "outputs": [
    {
     "name": "stdout",
     "output_type": "stream",
     "text": [
      "<class 'int'>\n",
      "<class 'float'>\n",
      "<class 'str'>\n"
     ]
    }
   ],
   "source": [
    "print(type(this_is_int))\n",
    "print(type(this_is_float))\n",
    "print(type(this_is_string))"
   ]
  },
  {
   "cell_type": "markdown",
   "metadata": {},
   "source": [
    "## 變數的操作 - 基本運算\n",
    "對於 int 及 float 來說，基本運算包含**四則運算**及**基本的數學**，而對於 string 來說，則有一些特別的操作可以使用:"
   ]
  },
  {
   "cell_type": "markdown",
   "metadata": {},
   "source": [
    "#### 四則運算："
   ]
  },
  {
   "cell_type": "code",
   "execution_count": 7,
   "metadata": {},
   "outputs": [
    {
     "name": "stdout",
     "output_type": "stream",
     "text": [
      "5\n",
      "2\n",
      "16\n",
      "2.0\n"
     ]
    }
   ],
   "source": [
    "print(2+3)\n",
    "print(5-3)\n",
    "print(8*2)\n",
    "print(6/3)"
   ]
  },
  {
   "cell_type": "markdown",
   "metadata": {},
   "source": [
    "#### 其他操作"
   ]
  },
  {
   "cell_type": "code",
   "execution_count": 8,
   "metadata": {},
   "outputs": [
    {
     "name": "stdout",
     "output_type": "stream",
     "text": [
      "8\n",
      "2\n",
      "3\n"
     ]
    }
   ],
   "source": [
    "print(2**3) #輸出2的3次方\n",
    "print(8%3) # 輸出8除以3的餘數\n",
    "print(10//3) # 輸出8除以3的商"
   ]
  },
  {
   "cell_type": "markdown",
   "metadata": {},
   "source": [
    "## 變數的運算 - 字串操作"
   ]
  },
  {
   "cell_type": "markdown",
   "metadata": {},
   "source": [
    "了解基本的四則運算後，關於字串這種型態變數，還有幾項特別的功能:"
   ]
  },
  {
   "cell_type": "markdown",
   "metadata": {},
   "source": [
    "#### 取得字串的長度 - len( )"
   ]
  },
  {
   "cell_type": "code",
   "execution_count": 12,
   "metadata": {},
   "outputs": [
    {
     "name": "stdout",
     "output_type": "stream",
     "text": [
      "10\n"
     ]
    }
   ],
   "source": [
    "demo_text = \"這是一個測試用的字串\"\n",
    "len(demo_text)"
   ]
  },
  {
   "cell_type": "markdown",
   "metadata": {},
   "source": [
    "注意的是，len( ) 計算的是**字**的數量、並非**詞**的數量，以英文來說比較清楚：\n",
    "\n",
    "可以看到下面的結果是 `25` 而不是 `5`"
   ]
  },
  {
   "cell_type": "code",
   "execution_count": 13,
   "metadata": {},
   "outputs": [
    {
     "data": {
      "text/plain": [
       "25"
      ]
     },
     "execution_count": 13,
     "metadata": {},
     "output_type": "execute_result"
    }
   ],
   "source": [
    "demo_text2 = \"This is another demo text\"\n",
    "len(demo_text2)"
   ]
  },
  {
   "cell_type": "markdown",
   "metadata": {},
   "source": [
    "#### 取得部分的字串 - slicing\n",
    "\n",
    "在字串後加上[ ]可以取得特定位置的文字"
   ]
  },
  {
   "cell_type": "code",
   "execution_count": 14,
   "metadata": {
    "collapsed": true
   },
   "outputs": [],
   "source": [
    "demo_text_3 = \"高雄是一個好所在！\""
   ]
  },
  {
   "cell_type": "markdown",
   "metadata": {},
   "source": [
    "在變數後加上`[5]`取出`demo_text_3`的第5個位置的字 (從0開始計算)"
   ]
  },
  {
   "cell_type": "code",
   "execution_count": 15,
   "metadata": {},
   "outputs": [
    {
     "data": {
      "text/plain": [
       "'好'"
      ]
     },
     "execution_count": 15,
     "metadata": {},
     "output_type": "execute_result"
    }
   ],
   "source": [
    "demo_text_3[5]"
   ]
  },
  {
   "cell_type": "markdown",
   "metadata": {},
   "source": [
    "在變數後加上[5:8]取出demo_text_3的第5到第8個位置的字 (從0開始計算)"
   ]
  },
  {
   "cell_type": "code",
   "execution_count": 19,
   "metadata": {
    "scrolled": true
   },
   "outputs": [
    {
     "data": {
      "text/plain": [
       "'好所在'"
      ]
     },
     "execution_count": 19,
     "metadata": {},
     "output_type": "execute_result"
    }
   ],
   "source": [
    "demo_text_3[5:8]"
   ]
  },
  {
   "cell_type": "markdown",
   "metadata": {},
   "source": [
    "#### 字串間的串接 - 直接相加\n",
    "\n",
    "「字串間的相加」 以及 「整數、浮點數之間的相加」是不一樣的，觀察一下差別在哪裡？"
   ]
  },
  {
   "cell_type": "code",
   "execution_count": 22,
   "metadata": {
    "collapsed": true
   },
   "outputs": [],
   "source": [
    "text_a = \"高雄\"\n",
    "text_b = \"好所在\""
   ]
  },
  {
   "cell_type": "code",
   "execution_count": 23,
   "metadata": {},
   "outputs": [
    {
     "name": "stdout",
     "output_type": "stream",
     "text": [
      "高雄好所在\n"
     ]
    }
   ],
   "source": [
    "print(text_a + text_b)"
   ]
  },
  {
   "cell_type": "markdown",
   "metadata": {},
   "source": [
    "## 型態的一致性 \n",
    "需要特別注意，四則運算必須要是相同的變數型態才能進行，如果讓int以及string進行運算，可能會出現意想不到的結果:"
   ]
  },
  {
   "cell_type": "code",
   "execution_count": 9,
   "metadata": {
    "collapsed": true
   },
   "outputs": [],
   "source": [
    "apple_price = \"50\" # 這是一個字串！！！不是整數！！！\n",
    "banana_price = 60"
   ]
  },
  {
   "cell_type": "code",
   "execution_count": 10,
   "metadata": {},
   "outputs": [
    {
     "ename": "TypeError",
     "evalue": "must be str, not int",
     "output_type": "error",
     "traceback": [
      "\u001b[0;31m---------------------------------------------------------------------------\u001b[0m",
      "\u001b[0;31mTypeError\u001b[0m                                 Traceback (most recent call last)",
      "\u001b[0;32m<ipython-input-10-0a3c36a342fb>\u001b[0m in \u001b[0;36m<module>\u001b[0;34m()\u001b[0m\n\u001b[0;32m----> 1\u001b[0;31m \u001b[0mprint\u001b[0m\u001b[0;34m(\u001b[0m\u001b[0mapple_price\u001b[0m \u001b[0;34m+\u001b[0m \u001b[0mbanana_price\u001b[0m\u001b[0;34m)\u001b[0m\u001b[0;34m\u001b[0m\u001b[0m\n\u001b[0m",
      "\u001b[0;31mTypeError\u001b[0m: must be str, not int"
     ]
    }
   ],
   "source": [
    "print(apple_price + banana_price) # 此程式碼因為兩個變數型態不同，所以會發生錯誤"
   ]
  },
  {
   "cell_type": "markdown",
   "metadata": {},
   "source": [
    "## 變數型態的轉換 - Casting\n",
    "在前面的章節有提到變數的三種型態，分別是: \n",
    "1. int (整數)\n",
    "2. float (浮點數)\n",
    "3. string (字串)\n",
    "\n",
    "可以透過以下方式進行變數轉換:\n",
    "```python\n",
    "int(<變數>) # 將變數轉換為int\n",
    "float(<變數>) # 將變數轉換為float\n",
    "str(<變數>) # 將變數轉換為string\n",
    "```"
   ]
  },
  {
   "cell_type": "code",
   "execution_count": 8,
   "metadata": {},
   "outputs": [
    {
     "name": "stdout",
     "output_type": "stream",
     "text": [
      "5.0\n",
      "<class 'float'>\n"
     ]
    }
   ],
   "source": [
    "this_is_int = 5 \n",
    "var_float = float(this_is_int) #將變數轉換為float\n",
    "print(var_float)\n",
    "print(type(var_float))"
   ]
  },
  {
   "cell_type": "code",
   "execution_count": 7,
   "metadata": {},
   "outputs": [
    {
     "name": "stdout",
     "output_type": "stream",
     "text": [
      "5\n",
      "<class 'str'>\n"
     ]
    }
   ],
   "source": [
    "var_str = str(this_is_int)\n",
    "print(var_str)\n",
    "print(type(var_str))"
   ]
  },
  {
   "cell_type": "markdown",
   "metadata": {},
   "source": [
    "## print - 輸出某些資訊\n",
    "\n",
    "在Python中，使用print語法可以輸出：\n",
    "+ 任意的字串\n",
    "+ 已經定義好的變數\n",
    "+ 字串+變數"
   ]
  },
  {
   "cell_type": "markdown",
   "metadata": {},
   "source": [
    "#### 任意字串"
   ]
  },
  {
   "cell_type": "code",
   "execution_count": 1,
   "metadata": {},
   "outputs": [
    {
     "name": "stdout",
     "output_type": "stream",
     "text": [
      "hello world!\n",
      "This is my first notebook\n"
     ]
    }
   ],
   "source": [
    "print(\"hello world!\")\n",
    "print(\"This is my first notebook\")"
   ]
  },
  {
   "cell_type": "markdown",
   "metadata": {},
   "source": [
    "#### 已經定義好的變數"
   ]
  },
  {
   "cell_type": "code",
   "execution_count": 3,
   "metadata": {},
   "outputs": [
    {
     "name": "stdout",
     "output_type": "stream",
     "text": [
      "60\n",
      "0\n"
     ]
    }
   ],
   "source": [
    "print(apple_price)\n",
    "print(ZERO)"
   ]
  },
  {
   "cell_type": "markdown",
   "metadata": {},
   "source": [
    "請注意！如果在沒有定義變數的情況下直接呼叫`print()`，會發生錯誤!\n",
    "\n",
    "舉例來說，我們嘗試print出一個我們根本沒有定義過的變數 `banana_price`"
   ]
  },
  {
   "cell_type": "code",
   "execution_count": 4,
   "metadata": {},
   "outputs": [
    {
     "ename": "NameError",
     "evalue": "name 'banana_price' is not defined",
     "output_type": "error",
     "traceback": [
      "\u001b[0;31m---------------------------------------------------------------------------\u001b[0m",
      "\u001b[0;31mNameError\u001b[0m                                 Traceback (most recent call last)",
      "\u001b[0;32m<ipython-input-4-1fd1ea19a88c>\u001b[0m in \u001b[0;36m<module>\u001b[0;34m()\u001b[0m\n\u001b[0;32m----> 1\u001b[0;31m \u001b[0mprint\u001b[0m\u001b[0;34m(\u001b[0m\u001b[0mbanana_price\u001b[0m\u001b[0;34m)\u001b[0m\u001b[0;34m\u001b[0m\u001b[0m\n\u001b[0m",
      "\u001b[0;31mNameError\u001b[0m: name 'banana_price' is not defined"
     ]
    }
   ],
   "source": [
    "print(banana_price)"
   ]
  },
  {
   "cell_type": "markdown",
   "metadata": {},
   "source": [
    "#### 字串+變數\n",
    "有時我們希望將字串及變數共同輸出 (例如昨天最後的小練習，需要你印出「My BMI: <BMI變數>!」)\n",
    "\n",
    "舉例來說：我們先設定一個變數 BMI = 20，接著我們要印出 \"My BMI: 20!\""
   ]
  },
  {
   "cell_type": "code",
   "execution_count": 20,
   "metadata": {
    "collapsed": true
   },
   "outputs": [],
   "source": [
    "BMI = 20"
   ]
  },
  {
   "cell_type": "code",
   "execution_count": 21,
   "metadata": {},
   "outputs": [
    {
     "ename": "TypeError",
     "evalue": "must be str, not int",
     "output_type": "error",
     "traceback": [
      "\u001b[0;31m---------------------------------------------------------------------------\u001b[0m",
      "\u001b[0;31mTypeError\u001b[0m                                 Traceback (most recent call last)",
      "\u001b[0;32m<ipython-input-21-20f237c42307>\u001b[0m in \u001b[0;36m<module>\u001b[0;34m()\u001b[0m\n\u001b[0;32m----> 1\u001b[0;31m \u001b[0mprint\u001b[0m\u001b[0;34m(\u001b[0m\u001b[0;34m\"My BMI:\"\u001b[0m \u001b[0;34m+\u001b[0m \u001b[0mBMI\u001b[0m \u001b[0;34m+\u001b[0m \u001b[0;34m\"!\"\u001b[0m\u001b[0;34m)\u001b[0m\u001b[0;34m\u001b[0m\u001b[0m\n\u001b[0m",
      "\u001b[0;31mTypeError\u001b[0m: must be str, not int"
     ]
    }
   ],
   "source": [
    "print(\"My BMI:\" + BMI + \"!\")"
   ]
  },
  {
   "cell_type": "markdown",
   "metadata": {},
   "source": [
    "由於 BMI 變數的型態是 int，所以不能直接相加！ 這時候該怎麼做呢? \n",
    "\n",
    "可以使用 \"My BMI: { }!\".format(BMI)，透過format( )來將 BMI 轉換到 { }中"
   ]
  },
  {
   "cell_type": "code",
   "execution_count": 24,
   "metadata": {},
   "outputs": [
    {
     "name": "stdout",
     "output_type": "stream",
     "text": [
      "My BMI:20!\n"
     ]
    }
   ],
   "source": [
    "print(\"My BMI:{}!\".format(BMI))"
   ]
  },
  {
   "cell_type": "markdown",
   "metadata": {},
   "source": [
    "## 本次上課小練習\n",
    "\n",
    "請大家設定身高、體重兩項變數，以四則運算的方式來進行計算 :\n",
    "\n",
    "BMI = 體重 / (身高 ** 2)"
   ]
  },
  {
   "cell_type": "code",
   "execution_count": 29,
   "metadata": {
    "collapsed": true
   },
   "outputs": [],
   "source": [
    "height = 1.79\n",
    "weight = 73"
   ]
  },
  {
   "cell_type": "code",
   "execution_count": 30,
   "metadata": {
    "collapsed": true
   },
   "outputs": [],
   "source": [
    "BMI = weight / (height**2)"
   ]
  },
  {
   "cell_type": "code",
   "execution_count": 31,
   "metadata": {},
   "outputs": [
    {
     "name": "stdout",
     "output_type": "stream",
     "text": [
      "22.783308885490467\n"
     ]
    }
   ],
   "source": [
    "print(BMI)"
   ]
  },
  {
   "cell_type": "code",
   "execution_count": 32,
   "metadata": {},
   "outputs": [
    {
     "name": "stdout",
     "output_type": "stream",
     "text": [
      "My BMI:22.783308885490467!\n"
     ]
    }
   ],
   "source": [
    "print(\"My BMI:{}!\".format(BMI))"
   ]
  }
 ],
 "metadata": {
  "kernelspec": {
   "display_name": "Python 3",
   "language": "python",
   "name": "python3"
  },
  "language_info": {
   "codemirror_mode": {
    "name": "ipython",
    "version": 3
   },
   "file_extension": ".py",
   "mimetype": "text/x-python",
   "name": "python",
   "nbconvert_exporter": "python",
   "pygments_lexer": "ipython3",
   "version": "3.7.6"
  }
 },
 "nbformat": 4,
 "nbformat_minor": 2
}
