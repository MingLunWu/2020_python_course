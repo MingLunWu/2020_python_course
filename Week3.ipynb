{
 "cells": [
  {
   "cell_type": "markdown",
   "metadata": {},
   "source": [
    "# 2020網研社 - Python Week 3 "
   ]
  },
  {
   "cell_type": "markdown",
   "metadata": {},
   "source": [
    "## 註解 (Comment)\n",
    "\n",
    "寫程式的過程中，可以透過註解來達到下列目的: \n",
    "1. 協助其他開發者理解程式碼的用處\n",
    "2. 未來更新程式碼時，自己能理解當初自己在想什麼\n",
    "\n",
    "在程式執行過程中，註解的部分將**被忽略，不會執行**\n",
    "\n",
    "在Python中，常見的註解有下列幾種形式: "
   ]
  },
  {
   "cell_type": "code",
   "execution_count": 1,
   "metadata": {},
   "outputs": [
    {
     "name": "stdout",
     "output_type": "stream",
     "text": [
      "Nothing\n",
      "Nothing\n"
     ]
    }
   ],
   "source": [
    "# 這是第一種註解方式 (單行註解)\n",
    "print(\"Nothing\")\n",
    "\n",
    "\"\"\"\n",
    "這是第二種註解方式 \n",
    "(多行註解)\n",
    "\"\"\"\n",
    "print(\"Nothing\")\n"
   ]
  },
  {
   "cell_type": "markdown",
   "metadata": {},
   "source": [
    "## 更多資料型態\n",
    "\n",
    "截至目前為止，我們學到了下列四種變數型態: \n",
    "1. 整數 (int)\n",
    "2. 浮點數 (float)\n",
    "3. 字串 (str)\n",
    "4. 布林 (boolean) \n",
    "\n",
    "[複習連結請點此 - 2020網研社 - Python Week1](https://render.githubusercontent.com/view/ipynb?commit=26ce8d2a1ab8af4e04dee5a26b2fa7bf56b2ee8b&enc_url=68747470733a2f2f7261772e67697468756275736572636f6e74656e742e636f6d2f4d696e674c756e57752f323032305f707974686f6e5f636f757273652f323663653864326131616238616634653034646565356132366232666137626635366232656538622f5765656b312e6970796e62&nwo=MingLunWu%2F2020_python_course&path=Week1.ipynb&repository_id=298145106&repository_type=Repository)\n",
    "\n",
    "現在，我們要再額外介紹一種資料型態 : \n",
    "+ **list**(串列)\n",
    "\n",
    "串列變數的特性，是能夠用一個變數同時儲存**多個值**:"
   ]
  },
  {
   "cell_type": "markdown",
   "metadata": {},
   "source": [
    "## list - 串列\n",
    "\n",
    "list按照**順序**來儲存多個值，就像是**?????**一樣\n",
    "![img](https://www.alphacodingskills.com/python/img/python-list.png)\n",
    "*圖片來源: https://www.alphacodingskills.com/python/python-lists.php\n",
    "\n",
    "在使用前透過下列任一方式進行宣告: \n",
    "```python\n",
    "# 第一種宣告方式\n",
    "this_is_list = []\n",
    "\n",
    "# 第二種宣告方式\n",
    "this_is_list_2 = list()\n",
    "```"
   ]
  },
  {
   "cell_type": "code",
   "execution_count": 2,
   "metadata": {
    "collapsed": true
   },
   "outputs": [],
   "source": [
    "# 第一種宣告方式\n",
    "this_is_list = []\n",
    "\n",
    "# 第二種宣告方式\n",
    "this_is_list_2 = list()"
   ]
  },
  {
   "cell_type": "markdown",
   "metadata": {},
   "source": [
    "使用上述方法所宣告的陣列是 **空串列**，裡面沒有任何的元素(element)。\n",
    "\n",
    "也可以透過下列方式創造串列，在創造的同時把將元素儲存起來，舉例來說，我想要創造一個串列，儲存「過去七天，我的睡眠時間」:\n",
    "\n",
    "```python\n",
    "sleeping_time = [7.2, 8.1, 6.2, 12, 6.2, 8.3, 4]\n",
    "```\n",
    "\n",
    "使用串列時，請注意兩項特性: \n",
    "1. 所有串列都是以 `[]`包覆\n",
    "2. 不同元素間以 `,`區隔"
   ]
  },
  {
   "cell_type": "code",
   "execution_count": 1,
   "metadata": {
    "collapsed": true
   },
   "outputs": [],
   "source": [
    "sleeping_time = [7.2, 8.1, 6.2, 12, 6.2, 8.3, 4]"
   ]
  },
  {
   "cell_type": "markdown",
   "metadata": {},
   "source": [
    "### 取得當前串列中的元素數量 - len( )\n",
    "一個串列可以同時儲存多個值，使用 `len(<串列>)`可以取得串列中元素的數量:"
   ]
  },
  {
   "cell_type": "code",
   "execution_count": 3,
   "metadata": {},
   "outputs": [
    {
     "data": {
      "text/plain": [
       "5"
      ]
     },
     "execution_count": 3,
     "metadata": {},
     "output_type": "execute_result"
    }
   ],
   "source": [
    "len([1,2,3,4,5])"
   ]
  },
  {
   "cell_type": "code",
   "execution_count": 4,
   "metadata": {},
   "outputs": [
    {
     "data": {
      "text/plain": [
       "4"
      ]
     },
     "execution_count": 4,
     "metadata": {},
     "output_type": "execute_result"
    }
   ],
   "source": [
    "this_is_list = [2,3,4,5]\n",
    "len(this_is_list)"
   ]
  },
  {
   "cell_type": "markdown",
   "metadata": {},
   "source": [
    "### 取得串列中特定位置的元素 - [ ]\n",
    "\n",
    "類似第一週對於字串的操作(slicing)，我們可以透過`[位置]`來取得串列中特定元素的值。\n",
    "\n",
    "請參考上圖的**Forward Direction Index** 及 **Backward Direction Index**"
   ]
  },
  {
   "cell_type": "code",
   "execution_count": 2,
   "metadata": {},
   "outputs": [
    {
     "data": {
      "text/plain": [
       "'cherry'"
      ]
     },
     "execution_count": 2,
     "metadata": {},
     "output_type": "execute_result"
    }
   ],
   "source": [
    "test_list = [\"apple\", \"banana\", \"cherry\", \"dog\", \"elephant\"]\n",
    "test_list[2]"
   ]
  },
  {
   "cell_type": "code",
   "execution_count": 3,
   "metadata": {},
   "outputs": [
    {
     "data": {
      "text/plain": [
       "'dog'"
      ]
     },
     "execution_count": 3,
     "metadata": {},
     "output_type": "execute_result"
    }
   ],
   "source": [
    "test_list[-2]"
   ]
  },
  {
   "cell_type": "markdown",
   "metadata": {},
   "source": [
    "取第三個到第四個元素"
   ]
  },
  {
   "cell_type": "code",
   "execution_count": 4,
   "metadata": {},
   "outputs": [
    {
     "data": {
      "text/plain": [
       "['cherry', 'dog']"
      ]
     },
     "execution_count": 4,
     "metadata": {},
     "output_type": "execute_result"
    }
   ],
   "source": [
    "test_list[2:4]"
   ]
  },
  {
   "cell_type": "markdown",
   "metadata": {},
   "source": [
    "從第三個元素開始取到最後一個元素"
   ]
  },
  {
   "cell_type": "code",
   "execution_count": 5,
   "metadata": {},
   "outputs": [
    {
     "data": {
      "text/plain": [
       "['cherry', 'dog', 'elephant']"
      ]
     },
     "execution_count": 5,
     "metadata": {},
     "output_type": "execute_result"
    }
   ],
   "source": [
    "test_list[2:]"
   ]
  },
  {
   "cell_type": "markdown",
   "metadata": {},
   "source": [
    "在取用元素時如果超出範圍，會發生錯誤: \n",
    "\n",
    "舉例來說如果在「五個元素」的串列中取用「第六個位置」，將會發生錯誤:"
   ]
  },
  {
   "cell_type": "code",
   "execution_count": 6,
   "metadata": {},
   "outputs": [
    {
     "data": {
      "text/plain": [
       "5"
      ]
     },
     "execution_count": 6,
     "metadata": {},
     "output_type": "execute_result"
    }
   ],
   "source": [
    "len(test_list)"
   ]
  },
  {
   "cell_type": "code",
   "execution_count": 7,
   "metadata": {},
   "outputs": [
    {
     "ename": "IndexError",
     "evalue": "list index out of range",
     "output_type": "error",
     "traceback": [
      "\u001b[0;31m---------------------------------------------------------------------------\u001b[0m",
      "\u001b[0;31mIndexError\u001b[0m                                Traceback (most recent call last)",
      "\u001b[0;32m<ipython-input-7-d890bf5d6a57>\u001b[0m in \u001b[0;36m<module>\u001b[0;34m()\u001b[0m\n\u001b[0;32m----> 1\u001b[0;31m \u001b[0mprint\u001b[0m\u001b[0;34m(\u001b[0m\u001b[0mtest_list\u001b[0m\u001b[0;34m[\u001b[0m\u001b[0;36m6\u001b[0m\u001b[0;34m]\u001b[0m\u001b[0;34m)\u001b[0m  \u001b[0;31m# 只有五個元素，卻取用第六個位置\u001b[0m\u001b[0;34m\u001b[0m\u001b[0m\n\u001b[0m",
      "\u001b[0;31mIndexError\u001b[0m: list index out of range"
     ]
    }
   ],
   "source": [
    "print(test_list[6])  # 只有五個元素，卻取用第六個位置"
   ]
  },
  {
   "cell_type": "markdown",
   "metadata": {},
   "source": [
    "### 串列的基本操作 - 新增&取用資料"
   ]
  },
  {
   "cell_type": "markdown",
   "metadata": {},
   "source": [
    "#### 新增資料至尾端 - append ( )\n",
    "\n",
    "在程式運行的過程中，通常很難掌握目前串列中的元素數量，將資料儲存進串列時，最常用的策略就是**放到串列的最後面**\n",
    "\n",
    "語法如下: \n",
    "```python\n",
    "<`串列`>.append(<`要塞入的元素`>)\n",
    "```"
   ]
  },
  {
   "cell_type": "markdown",
   "metadata": {},
   "source": [
    "接下來我們先宣告一個空陣列，將其`print()`出來後，可以看到什麼元素都沒有:"
   ]
  },
  {
   "cell_type": "code",
   "execution_count": 8,
   "metadata": {},
   "outputs": [
    {
     "name": "stdout",
     "output_type": "stream",
     "text": [
      "[]\n"
     ]
    }
   ],
   "source": [
    "list_a = list() # 宣告一個空陣列\n",
    "print(list_a)"
   ]
  },
  {
   "cell_type": "markdown",
   "metadata": {},
   "source": [
    "使用 `append()` 插入元素:"
   ]
  },
  {
   "cell_type": "code",
   "execution_count": 9,
   "metadata": {
    "collapsed": true
   },
   "outputs": [],
   "source": [
    "list_a.append(24)"
   ]
  },
  {
   "cell_type": "code",
   "execution_count": 10,
   "metadata": {},
   "outputs": [
    {
     "name": "stdout",
     "output_type": "stream",
     "text": [
      "[24]\n"
     ]
    }
   ],
   "source": [
    "print(list_a)"
   ]
  },
  {
   "cell_type": "code",
   "execution_count": 11,
   "metadata": {
    "collapsed": true
   },
   "outputs": [],
   "source": [
    "list_a.append(48)"
   ]
  },
  {
   "cell_type": "code",
   "execution_count": 12,
   "metadata": {},
   "outputs": [
    {
     "name": "stdout",
     "output_type": "stream",
     "text": [
      "[24, 48]\n"
     ]
    }
   ],
   "source": [
    "print(list_a)"
   ]
  },
  {
   "cell_type": "markdown",
   "metadata": {},
   "source": [
    "從上面的例子中可以看到，使用`append()`會將元素插入至串列的**尾端**"
   ]
  },
  {
   "cell_type": "markdown",
   "metadata": {},
   "source": [
    "#### 新增資料至特定位置 - insert( )\n",
    "使用`insert()`語法來將元素儲存至**「特定位置」**\n",
    "\n",
    "語法:\n",
    "```python\n",
    "<`串列`>.insert(<`位置`>, <`元素`>)\n",
    "```"
   ]
  },
  {
   "cell_type": "code",
   "execution_count": 6,
   "metadata": {},
   "outputs": [
    {
     "name": "stdout",
     "output_type": "stream",
     "text": [
      "插入前的串列:['apple', 'banana', 'cat', 'dog', 'elephant']\n",
      "插入後的串列:['apple', 'banana', 'add_element', 'cat', 'dog', 'elephant']\n"
     ]
    }
   ],
   "source": [
    "list_a = [\"apple\", \"banana\", \"cat\", \"dog\", \"elephant\"]\n",
    "print(\"插入前的串列:{}\".format(list_a))\n",
    "list_a.insert(2, \"add_element\")\n",
    "print(\"插入後的串列:{}\".format(list_a))"
   ]
  },
  {
   "cell_type": "markdown",
   "metadata": {},
   "source": [
    "#### 取出資料(1) - remove( )\n",
    "\n",
    "使用 `remove(<元素>)` 可以將 list 中的特定元素移除."
   ]
  },
  {
   "cell_type": "code",
   "execution_count": 7,
   "metadata": {},
   "outputs": [
    {
     "name": "stdout",
     "output_type": "stream",
     "text": [
      "['apple', 'banana', 'cat', 'dog', 'elephant']\n"
     ]
    }
   ],
   "source": [
    "list_a = [\"apple\", \"banana\", \"cat\", \"dog\", \"elephant\"]\n",
    "print(list_a)"
   ]
  },
  {
   "cell_type": "code",
   "execution_count": 2,
   "metadata": {},
   "outputs": [
    {
     "name": "stdout",
     "output_type": "stream",
     "text": [
      "['apple', 'cat', 'dog', 'elephant']\n"
     ]
    }
   ],
   "source": [
    "list_a.remove(\"banana\")\n",
    "print(list_a)"
   ]
  },
  {
   "cell_type": "markdown",
   "metadata": {},
   "source": [
    "如果移除的元素不在串列中，將會發生意料之外的錯誤！"
   ]
  },
  {
   "cell_type": "code",
   "execution_count": 8,
   "metadata": {},
   "outputs": [
    {
     "ename": "ValueError",
     "evalue": "list.remove(x): x not in list",
     "output_type": "error",
     "traceback": [
      "\u001b[0;31m---------------------------------------------------------------------------\u001b[0m",
      "\u001b[0;31mValueError\u001b[0m                                Traceback (most recent call last)",
      "\u001b[0;32m<ipython-input-8-f19a249db269>\u001b[0m in \u001b[0;36m<module>\u001b[0;34m()\u001b[0m\n\u001b[0;32m----> 1\u001b[0;31m \u001b[0mlist_a\u001b[0m\u001b[0;34m.\u001b[0m\u001b[0mremove\u001b[0m\u001b[0;34m(\u001b[0m\u001b[0;34m\"test\"\u001b[0m\u001b[0;34m)\u001b[0m\u001b[0;34m\u001b[0m\u001b[0m\n\u001b[0m",
      "\u001b[0;31mValueError\u001b[0m: list.remove(x): x not in list"
     ]
    }
   ],
   "source": [
    "list_a.remove(\"test\")"
   ]
  },
  {
   "cell_type": "markdown",
   "metadata": {},
   "source": [
    "#### 取出資料(2) - pop( )\n",
    "使用 `pop()`也是要取出串列的元素，當`()`中沒有放任何的元素時，預設是**取出串列最後面的元素**"
   ]
  },
  {
   "cell_type": "code",
   "execution_count": 3,
   "metadata": {},
   "outputs": [
    {
     "name": "stdout",
     "output_type": "stream",
     "text": [
      "['apple', 'banana', 'cat', 'dog', 'elephant']\n",
      "list_a最後一個元素是:elephant\n"
     ]
    }
   ],
   "source": [
    "list_a = [\"apple\", \"banana\", \"cat\", \"dog\", \"elephant\"]\n",
    "print(list_a)\n",
    "print(\"list_a最後一個元素是:{}\".format(list_a[-1]))"
   ]
  },
  {
   "cell_type": "code",
   "execution_count": 4,
   "metadata": {},
   "outputs": [
    {
     "name": "stdout",
     "output_type": "stream",
     "text": [
      "移除後的list: ['apple', 'banana', 'cat', 'dog']\n",
      "poped變數: elephant\n"
     ]
    }
   ],
   "source": [
    "poped = list_a.pop()\n",
    "print(\"移除後的list: {}\".format(list_a))\n",
    "print(\"poped變數: {}\".format(poped))"
   ]
  },
  {
   "cell_type": "markdown",
   "metadata": {},
   "source": [
    "#### 串列的基本操作 - 新增&移除資料 (彙整)\n",
    "|  型態  | 語法 | 效果   |\n",
    "|:---:|:------:|:------:|\n",
    "|新增|   <`串列`>.append(<`元素`>)  | 將元素插入至串列的**尾端**|\n",
    "|新增|   <`串列`>.insert(<`位置`>, <`元素`>)   | 將元素插入至串列的**特定位置**|\n",
    "|移除|   <`串列`>.remove(<`元素`>)   | 將特定元素從串列中移除|\n",
    "|移除|   <`串列`>.pop( )   | 取出串列**尾端**的元素|"
   ]
  },
  {
   "cell_type": "markdown",
   "metadata": {},
   "source": [
    "## 迴圈 (Loop) \n",
    "\n",
    "迴圈與條件判斷在程式語言中扮演很重要的角色，在上週我們學到Python對於條件判斷的三種語法: \n",
    "1. if \n",
    "2. if - else\n",
    "3. if - elif - else\n",
    "\n",
    "本週我們要學習迴圈，常見的迴圈有下列兩種:\n",
    "+ for\n",
    "+ while"
   ]
  },
  {
   "cell_type": "markdown",
   "metadata": {},
   "source": [
    "### 迴圈 - While \n",
    "\n",
    "![img](https://lh6.googleusercontent.com/_N8SLZ89dGJc/TZ5luE2PpQI/AAAAAAAAG1s/_sUqI8fdzkE/s280/loop.png)\n",
    "\n",
    "語法: \n",
    "```python\n",
    "while condition: \n",
    "    do_something # 當條件(condition)為True時，此行程式碼會持續運行\n",
    "    condition_update # 通常會有條件(condition)的更新\n",
    "\n",
    "# 當條件(condition)為False時，迴圈結束運行\n",
    "print(\"finished\")\n",
    "\n",
    "```\n",
    "\n",
    "務必記得迴圈中通常會有**「條件的更新」**，否則可能會發生**永遠跳不出迴圈**的狀況."
   ]
  },
  {
   "cell_type": "code",
   "execution_count": 10,
   "metadata": {},
   "outputs": [
    {
     "name": "stdout",
     "output_type": "stream",
     "text": [
      "0\n",
      "1\n",
      "2\n",
      "3\n",
      "4\n"
     ]
    }
   ],
   "source": [
    "var = 0\n",
    "\n",
    "while var < 5:\n",
    "    print(var) # 做某件事情\n",
    "    var = var + 1 # 更新條件"
   ]
  },
  {
   "cell_type": "markdown",
   "metadata": {},
   "source": [
    "#### while Loop 小練習\n",
    "1.請嘗試使用while loop印出下列的結果:\n",
    "\n",
    "```python\n",
    "1\n",
    "4\n",
    "9\n",
    "16\n",
    "25\n",
    "```\n",
    "\n",
    "2.請嘗試使用while loop 印出下列的結果:\n",
    "```python\n",
    "1\n",
    "4\n",
    "27\n",
    "64\n",
    "125\n",
    "```"
   ]
  },
  {
   "cell_type": "markdown",
   "metadata": {},
   "source": [
    "### 迴圈 - for \n",
    "\n",
    "語法: \n",
    "```python\n",
    "for <`當前元素`> in <`串列`>:\n",
    "    print(<`當前元素`>)\n",
    "```\n",
    "\n",
    "\n",
    "當迴圈執行完一次後，<`當前元素`>會被更新成<`串列`>中的下一個元素"
   ]
  },
  {
   "cell_type": "code",
   "execution_count": 13,
   "metadata": {},
   "outputs": [
    {
     "name": "stdout",
     "output_type": "stream",
     "text": [
      "0\n",
      "1\n",
      "2\n",
      "3\n",
      "4\n"
     ]
    }
   ],
   "source": [
    "for i in [0,1,2,3,4]:\n",
    "    print(i)"
   ]
  },
  {
   "cell_type": "markdown",
   "metadata": {},
   "source": [
    "通常在使用 `for` 迴圈時，會搭配 `range()`方式來創造串列: \n",
    "\n",
    "range的語法: \n",
    "```python\n",
    "range(<`起點`>, <`終點`>, <`變動值`>)\n",
    "```"
   ]
  },
  {
   "cell_type": "code",
   "execution_count": 18,
   "metadata": {},
   "outputs": [
    {
     "name": "stdout",
     "output_type": "stream",
     "text": [
      "[0, 1, 2, 3, 4]\n"
     ]
    }
   ],
   "source": [
    "list(range(0,5,1))"
   ]
  },
  {
   "cell_type": "code",
   "execution_count": 19,
   "metadata": {},
   "outputs": [
    {
     "data": {
      "text/plain": [
       "[0, 2, 4, 6, 8]"
      ]
     },
     "execution_count": 19,
     "metadata": {},
     "output_type": "execute_result"
    }
   ],
   "source": [
    "list(range(0, 10, 2))"
   ]
  },
  {
   "cell_type": "code",
   "execution_count": 21,
   "metadata": {},
   "outputs": [
    {
     "name": "stdout",
     "output_type": "stream",
     "text": [
      "0\n",
      "1\n",
      "2\n",
      "3\n",
      "4\n"
     ]
    }
   ],
   "source": [
    "for i in range(0,5,1):\n",
    "    print(i)"
   ]
  },
  {
   "cell_type": "markdown",
   "metadata": {},
   "source": [
    "除了上週介紹過的**巢狀條件判斷**，迴圈中也可以使用**巢狀迴圈**\n",
    "\n",
    "**巢狀迴圈**指的是在「一層迴圈中包含另外一層迴圈」"
   ]
  },
  {
   "cell_type": "code",
   "execution_count": 15,
   "metadata": {},
   "outputs": [
    {
     "name": "stdout",
     "output_type": "stream",
     "text": [
      "1 * 1 = 1\n",
      "1 * 2 = 2\n",
      "1 * 3 = 3\n",
      "1 * 4 = 4\n",
      "1 * 5 = 5\n",
      "1 * 6 = 6\n",
      "1 * 7 = 7\n",
      "1 * 8 = 8\n",
      "1 * 9 = 9\n",
      "2 * 1 = 2\n",
      "2 * 2 = 4\n",
      "2 * 3 = 6\n",
      "2 * 4 = 8\n",
      "2 * 5 = 10\n",
      "2 * 6 = 12\n",
      "2 * 7 = 14\n",
      "2 * 8 = 16\n",
      "2 * 9 = 18\n",
      "3 * 1 = 3\n",
      "3 * 2 = 6\n",
      "3 * 3 = 9\n",
      "3 * 4 = 12\n",
      "3 * 5 = 15\n",
      "3 * 6 = 18\n",
      "3 * 7 = 21\n",
      "3 * 8 = 24\n",
      "3 * 9 = 27\n",
      "4 * 1 = 4\n",
      "4 * 2 = 8\n",
      "4 * 3 = 12\n",
      "4 * 4 = 16\n",
      "4 * 5 = 20\n",
      "4 * 6 = 24\n",
      "4 * 7 = 28\n",
      "4 * 8 = 32\n",
      "4 * 9 = 36\n",
      "5 * 1 = 5\n",
      "5 * 2 = 10\n",
      "5 * 3 = 15\n",
      "5 * 4 = 20\n",
      "5 * 5 = 25\n",
      "5 * 6 = 30\n",
      "5 * 7 = 35\n",
      "5 * 8 = 40\n",
      "5 * 9 = 45\n",
      "6 * 1 = 6\n",
      "6 * 2 = 12\n",
      "6 * 3 = 18\n",
      "6 * 4 = 24\n",
      "6 * 5 = 30\n",
      "6 * 6 = 36\n",
      "6 * 7 = 42\n",
      "6 * 8 = 48\n",
      "6 * 9 = 54\n",
      "7 * 1 = 7\n",
      "7 * 2 = 14\n",
      "7 * 3 = 21\n",
      "7 * 4 = 28\n",
      "7 * 5 = 35\n",
      "7 * 6 = 42\n",
      "7 * 7 = 49\n",
      "7 * 8 = 56\n",
      "7 * 9 = 63\n",
      "8 * 1 = 8\n",
      "8 * 2 = 16\n",
      "8 * 3 = 24\n",
      "8 * 4 = 32\n",
      "8 * 5 = 40\n",
      "8 * 6 = 48\n",
      "8 * 7 = 56\n",
      "8 * 8 = 64\n",
      "8 * 9 = 72\n",
      "9 * 1 = 9\n",
      "9 * 2 = 18\n",
      "9 * 3 = 27\n",
      "9 * 4 = 36\n",
      "9 * 5 = 45\n",
      "9 * 6 = 54\n",
      "9 * 7 = 63\n",
      "9 * 8 = 72\n",
      "9 * 9 = 81\n"
     ]
    }
   ],
   "source": [
    "for i in range(1,10,1):\n",
    "    for j in range(1,10,1):\n",
    "        print(\"{} * {} = {}\".format(i, j, i*j))"
   ]
  },
  {
   "cell_type": "markdown",
   "metadata": {},
   "source": [
    "#### 本週小練習 - 九九乘法表 \n",
    "\n",
    "請嘗試使用 while loop 寫出如上的九九乘法表！"
   ]
  },
  {
   "cell_type": "code",
   "execution_count": null,
   "metadata": {
    "collapsed": true
   },
   "outputs": [],
   "source": []
  }
 ],
 "metadata": {
  "kernelspec": {
   "display_name": "Python 3",
   "language": "python",
   "name": "python3"
  },
  "language_info": {
   "codemirror_mode": {
    "name": "ipython",
    "version": 3
   },
   "file_extension": ".py",
   "mimetype": "text/x-python",
   "name": "python",
   "nbconvert_exporter": "python",
   "pygments_lexer": "ipython3",
   "version": "3.6.1"
  }
 },
 "nbformat": 4,
 "nbformat_minor": 2
}
